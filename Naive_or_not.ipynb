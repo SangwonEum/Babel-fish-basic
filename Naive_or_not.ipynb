{
 "cells": [
  {
   "cell_type": "code",
   "execution_count": 1,
   "metadata": {},
   "outputs": [
    {
     "name": "stdout",
     "output_type": "stream",
     "text": [
      "--2017-06-02 16:15:12--  https://raw.githubusercontent.com/e9t/nsmc/master/ratings_train.txt\n",
      "Resolving raw.githubusercontent.com... 151.101.72.133\n",
      "Connecting to raw.githubusercontent.com|151.101.72.133|:443... connected.\n",
      "HTTP request sent, awaiting response... 200 OK\n",
      "Length: 14628807 (14M) [text/plain]\n",
      "Saving to: 'data/ratings_train.txt.1'\n",
      "\n",
      "ratings_train.txt.1 100%[===================>]  13.95M  31.3KB/s    in 8m 28s  \n",
      "\n",
      "2017-06-02 16:23:43 (28.1 KB/s) - 'data/ratings_train.txt.1' saved [14628807/14628807]\n",
      "\n",
      "--2017-06-02 16:23:43--  https://raw.githubusercontent.com/e9t/nsmc/master/ratings_test.txt\n",
      "Resolving raw.githubusercontent.com... 151.101.72.133\n",
      "Connecting to raw.githubusercontent.com|151.101.72.133|:443... connected.\n",
      "HTTP request sent, awaiting response... 200 OK\n",
      "Length: 4893335 (4.7M) [text/plain]\n",
      "Saving to: 'data/ratings_test.txt.1'\n",
      "\n",
      "ratings_test.txt.1  100%[===================>]   4.67M  31.4KB/s    in 93s     \n",
      "\n",
      "2017-06-02 16:25:18 (51.5 KB/s) - 'data/ratings_test.txt.1' saved [4893335/4893335]\n",
      "\n"
     ]
    }
   ],
   "source": [
    "# data download\n",
    "# wget -P A B : B의 데이터를 A에 저장.\n",
    "!wget -P data https://raw.githubusercontent.com/e9t/nsmc/master/ratings_train.txt # train data \n",
    "!wget -P data https://raw.githubusercontent.com/e9t/nsmc/master/ratings_test.txt # test data"
   ]
  },
  {
   "cell_type": "code",
   "execution_count": 1,
   "metadata": {
    "collapsed": true
   },
   "outputs": [],
   "source": [
    "import re\n",
    "import numpy as np\n",
    "\n",
    "# Load Pre-trained Word2vec Model\n",
    "#from gensim.models import word2vec\n",
    "\n",
    "# Data visualization\n",
    "from matplotlib import pyplot as plt\n",
    "%matplotlib inline\n",
    "\n",
    "# CNN\n",
    "#from keras.preprocessing.text import Tokenizer, text_to_word_sequence\n",
    "#from keras.preprocessing.sequence import pad_sequences\n",
    "#from keras import losses\n",
    "\n",
    "#from keras.layers import Embedding\n",
    "#from keras.layers import Dense, Input, Flatten\n",
    "#from keras.layers import Conv1D, MaxPooling1D, Embedding, Merge, Dropout\n",
    "#from keras.models import Model, Sequential"
   ]
  },
  {
   "cell_type": "code",
   "execution_count": 2,
   "metadata": {
    "collapsed": true
   },
   "outputs": [],
   "source": [
    "TRAIN_FILE = 'data/ratings_train.txt'\n",
    "TEST_FILE = 'data/ratings_test.txt'"
   ]
  },
  {
   "cell_type": "code",
   "execution_count": 3,
   "metadata": {},
   "outputs": [
    {
     "name": "stdout",
     "output_type": "stream",
     "text": [
      "id\tdocument\tlabel\r\n",
      "9976970\t아 더빙.. 진짜 짜증나네요 목소리\t0\r\n",
      "3819312\t흠...포스터보고 초딩영화줄....오버연기조차 가볍지 않구나\t1\r\n",
      "10265843\t너무재밓었다그래서보는것을추천한다\t0\r\n",
      "9045019\t교도소 이야기구먼 ..솔직히 재미는 없다..평점 조정\t0\r\n",
      "6483659\t사이몬페그의 익살스런 연기가 돋보였던 영화!스파이더맨에서 늙어보이기만 했던 커스틴 던스트가 너무나도 이뻐보였다\t1\r\n",
      "5403919\t막 걸음마 뗀 3세부터 초등학교 1학년생인 8살용영화.ㅋㅋㅋ...별반개도 아까움.\t0\r\n",
      "7797314\t원작의 긴장감을 제대로 살려내지못했다.\t0\r\n",
      "9443947\t별 반개도 아깝다 욕나온다 이응경 길용우 연기생활이몇년인지..정말 발로해도 그것보단 낫겟다 납치.감금만반복반복..이드라마는 가족도없다 연기못하는사람만모엿네\t0\r\n",
      "7156791\t액션이 없는데도 재미 있는 몇안되는 영화\t1\r\n"
     ]
    }
   ],
   "source": [
    "!head data/ratings_train.txt"
   ]
  },
  {
   "cell_type": "code",
   "execution_count": 12,
   "metadata": {
    "collapsed": true
   },
   "outputs": [],
   "source": [
    "\n",
    "reviews = []\n",
    "with open(TRAIN_FILE, 'r') as f:\n",
    "    next(f) # header skip\n",
    "    for line in f.readlines():\n",
    "        _, review, _ = line.strip().split('\\t')\n",
    "        reviews.append(review.strip())\n",
    "        \n",
    "with open(TEST_FILE, 'r') as f:\n",
    "    next(f) # header skip\n",
    "    for line in f.readlines():\n",
    "        _, review, _ = line.strip().split('\\t')\n",
    "        reviews.append(review.strip())"
   ]
  },
  {
   "cell_type": "code",
   "execution_count": 13,
   "metadata": {},
   "outputs": [
    {
     "data": {
      "text/plain": [
       "['아 더빙.. 진짜 짜증나네요 목소리',\n",
       " '흠...포스터보고 초딩영화줄....오버연기조차 가볍지 않구나',\n",
       " '너무재밓었다그래서보는것을추천한다',\n",
       " '교도소 이야기구먼 ..솔직히 재미는 없다..평점 조정',\n",
       " '사이몬페그의 익살스런 연기가 돋보였던 영화!스파이더맨에서 늙어보이기만 했던 커스틴 던스트가 너무나도 이뻐보였다',\n",
       " '막 걸음마 뗀 3세부터 초등학교 1학년생인 8살용영화.ㅋㅋㅋ...별반개도 아까움.',\n",
       " '원작의 긴장감을 제대로 살려내지못했다.',\n",
       " '별 반개도 아깝다 욕나온다 이응경 길용우 연기생활이몇년인지..정말 발로해도 그것보단 낫겟다 납치.감금만반복반복..이드라마는 가족도없다 연기못하는사람만모엿네',\n",
       " '액션이 없는데도 재미 있는 몇안되는 영화',\n",
       " '왜케 평점이 낮은건데? 꽤 볼만한데.. 헐리우드식 화려함에만 너무 길들여져 있나?']"
      ]
     },
     "execution_count": 13,
     "metadata": {},
     "output_type": "execute_result"
    }
   ],
   "source": [
    "reviews[:10]"
   ]
  },
  {
   "cell_type": "code",
   "execution_count": null,
   "metadata": {
    "collapsed": true
   },
   "outputs": [],
   "source": [
    "%%time\n",
    "train_reviews = [(tokenizer(review), int(label)) for review, label in train_reviews]\n",
    "test_reviews = [(tokenizer(review), int(label)) for review, label in test_reviews]"
   ]
  },
  {
   "cell_type": "code",
   "execution_count": 14,
   "metadata": {
    "collapsed": true
   },
   "outputs": [],
   "source": [
    "from gensim.models import word2vec"
   ]
  },
  {
   "cell_type": "code",
   "execution_count": 15,
   "metadata": {
    "collapsed": true
   },
   "outputs": [],
   "source": [
    "from konlpy.tag import Twitter\n",
    "twi_tagger = Twitter()"
   ]
  },
  {
   "cell_type": "code",
   "execution_count": 16,
   "metadata": {},
   "outputs": [
    {
     "data": {
      "text/plain": [
       "[('자연어', 'Noun'),\n",
       " ('처리', 'Noun'),\n",
       " ('란', 'Noun'),\n",
       " ('무엇', 'Noun'),\n",
       " ('일', 'Noun'),\n",
       " ('끄다', 'Verb'),\n",
       " ('깎다', 'Verb'),\n",
       " ('ㄲㄲ', 'KoreanParticle')]"
      ]
     },
     "execution_count": 16,
     "metadata": {},
     "output_type": "execute_result"
    }
   ],
   "source": [
    "sentence = \"자연어 처리란 무엇일까까까깎ㄲㄲ\"\n",
    "twi_tagger.pos(sentence,norm=True,stem=True)"
   ]
  },
  {
   "cell_type": "markdown",
   "metadata": {},
   "source": [
    "# Word Enbedding \n",
    "\n",
    "* 단어를 벡터에 임베딩함\n",
    "* CNN 학습시 필요 \n",
    "* Word2vec은 gensim을 통해 쉽게 만들수 있음  "
   ]
  },
  {
   "cell_type": "code",
   "execution_count": 17,
   "metadata": {},
   "outputs": [
    {
     "data": {
      "text/html": [
       "\n",
       "    <div class=\"bk-root\">\n",
       "        <a href=\"http://bokeh.pydata.org\" target=\"_blank\" class=\"bk-logo bk-logo-small bk-logo-notebook\"></a>\n",
       "        <span id=\"ca3b19d0-867c-47e1-900d-465eed408655\">Loading BokehJS ...</span>\n",
       "    </div>"
      ]
     },
     "metadata": {},
     "output_type": "display_data"
    },
    {
     "data": {
      "application/javascript": [
       "\n",
       "(function(global) {\n",
       "  function now() {\n",
       "    return new Date();\n",
       "  }\n",
       "\n",
       "  var force = true;\n",
       "\n",
       "  if (typeof (window._bokeh_onload_callbacks) === \"undefined\" || force === true) {\n",
       "    window._bokeh_onload_callbacks = [];\n",
       "    window._bokeh_is_loading = undefined;\n",
       "  }\n",
       "\n",
       "\n",
       "  \n",
       "  if (typeof (window._bokeh_timeout) === \"undefined\" || force === true) {\n",
       "    window._bokeh_timeout = Date.now() + 5000;\n",
       "    window._bokeh_failed_load = false;\n",
       "  }\n",
       "\n",
       "  var NB_LOAD_WARNING = {'data': {'text/html':\n",
       "     \"<div style='background-color: #fdd'>\\n\"+\n",
       "     \"<p>\\n\"+\n",
       "     \"BokehJS does not appear to have successfully loaded. If loading BokehJS from CDN, this \\n\"+\n",
       "     \"may be due to a slow or bad network connection. Possible fixes:\\n\"+\n",
       "     \"</p>\\n\"+\n",
       "     \"<ul>\\n\"+\n",
       "     \"<li>re-rerun `output_notebook()` to attempt to load from CDN again, or</li>\\n\"+\n",
       "     \"<li>use INLINE resources instead, as so:</li>\\n\"+\n",
       "     \"</ul>\\n\"+\n",
       "     \"<code>\\n\"+\n",
       "     \"from bokeh.resources import INLINE\\n\"+\n",
       "     \"output_notebook(resources=INLINE)\\n\"+\n",
       "     \"</code>\\n\"+\n",
       "     \"</div>\"}};\n",
       "\n",
       "  function display_loaded() {\n",
       "    if (window.Bokeh !== undefined) {\n",
       "      var el = document.getElementById(\"ca3b19d0-867c-47e1-900d-465eed408655\");\n",
       "      el.textContent = \"BokehJS \" + Bokeh.version + \" successfully loaded.\";\n",
       "    } else if (Date.now() < window._bokeh_timeout) {\n",
       "      setTimeout(display_loaded, 100)\n",
       "    }\n",
       "  }\n",
       "\n",
       "  function run_callbacks() {\n",
       "    window._bokeh_onload_callbacks.forEach(function(callback) { callback() });\n",
       "    delete window._bokeh_onload_callbacks\n",
       "    console.info(\"Bokeh: all callbacks have finished\");\n",
       "  }\n",
       "\n",
       "  function load_libs(js_urls, callback) {\n",
       "    window._bokeh_onload_callbacks.push(callback);\n",
       "    if (window._bokeh_is_loading > 0) {\n",
       "      console.log(\"Bokeh: BokehJS is being loaded, scheduling callback at\", now());\n",
       "      return null;\n",
       "    }\n",
       "    if (js_urls == null || js_urls.length === 0) {\n",
       "      run_callbacks();\n",
       "      return null;\n",
       "    }\n",
       "    console.log(\"Bokeh: BokehJS not loaded, scheduling load and callback at\", now());\n",
       "    window._bokeh_is_loading = js_urls.length;\n",
       "    for (var i = 0; i < js_urls.length; i++) {\n",
       "      var url = js_urls[i];\n",
       "      var s = document.createElement('script');\n",
       "      s.src = url;\n",
       "      s.async = false;\n",
       "      s.onreadystatechange = s.onload = function() {\n",
       "        window._bokeh_is_loading--;\n",
       "        if (window._bokeh_is_loading === 0) {\n",
       "          console.log(\"Bokeh: all BokehJS libraries loaded\");\n",
       "          run_callbacks()\n",
       "        }\n",
       "      };\n",
       "      s.onerror = function() {\n",
       "        console.warn(\"failed to load library \" + url);\n",
       "      };\n",
       "      console.log(\"Bokeh: injecting script tag for BokehJS library: \", url);\n",
       "      document.getElementsByTagName(\"head\")[0].appendChild(s);\n",
       "    }\n",
       "  };var element = document.getElementById(\"ca3b19d0-867c-47e1-900d-465eed408655\");\n",
       "  if (element == null) {\n",
       "    console.log(\"Bokeh: ERROR: autoload.js configured with elementid 'ca3b19d0-867c-47e1-900d-465eed408655' but no matching script tag was found. \")\n",
       "    return false;\n",
       "  }\n",
       "\n",
       "  var js_urls = [\"https://cdn.pydata.org/bokeh/release/bokeh-0.12.5.min.js\", \"https://cdn.pydata.org/bokeh/release/bokeh-widgets-0.12.5.min.js\"];\n",
       "\n",
       "  var inline_js = [\n",
       "    function(Bokeh) {\n",
       "      Bokeh.set_log_level(\"info\");\n",
       "    },\n",
       "    \n",
       "    function(Bokeh) {\n",
       "      \n",
       "    },\n",
       "    \n",
       "    function(Bokeh) {\n",
       "      \n",
       "      document.getElementById(\"ca3b19d0-867c-47e1-900d-465eed408655\").textContent = \"BokehJS is loading...\";\n",
       "    },\n",
       "    function(Bokeh) {\n",
       "      console.log(\"Bokeh: injecting CSS: https://cdn.pydata.org/bokeh/release/bokeh-0.12.5.min.css\");\n",
       "      Bokeh.embed.inject_css(\"https://cdn.pydata.org/bokeh/release/bokeh-0.12.5.min.css\");\n",
       "      console.log(\"Bokeh: injecting CSS: https://cdn.pydata.org/bokeh/release/bokeh-widgets-0.12.5.min.css\");\n",
       "      Bokeh.embed.inject_css(\"https://cdn.pydata.org/bokeh/release/bokeh-widgets-0.12.5.min.css\");\n",
       "    }\n",
       "  ];\n",
       "\n",
       "  function run_inline_js() {\n",
       "    \n",
       "    if ((window.Bokeh !== undefined) || (force === true)) {\n",
       "      for (var i = 0; i < inline_js.length; i++) {\n",
       "        inline_js[i](window.Bokeh);\n",
       "      }if (force === true) {\n",
       "        display_loaded();\n",
       "      }} else if (Date.now() < window._bokeh_timeout) {\n",
       "      setTimeout(run_inline_js, 100);\n",
       "    } else if (!window._bokeh_failed_load) {\n",
       "      console.log(\"Bokeh: BokehJS failed to load within specified timeout.\");\n",
       "      window._bokeh_failed_load = true;\n",
       "    } else if (force !== true) {\n",
       "      var cell = $(document.getElementById(\"ca3b19d0-867c-47e1-900d-465eed408655\")).parents('.cell').data().cell;\n",
       "      cell.output_area.append_execute_result(NB_LOAD_WARNING)\n",
       "    }\n",
       "\n",
       "  }\n",
       "\n",
       "  if (window._bokeh_is_loading === 0) {\n",
       "    console.log(\"Bokeh: BokehJS loaded, going straight to plotting\");\n",
       "    run_inline_js();\n",
       "  } else {\n",
       "    load_libs(js_urls, function() {\n",
       "      console.log(\"Bokeh: BokehJS plotting callback run at\", now());\n",
       "      run_inline_js();\n",
       "    });\n",
       "  }\n",
       "}(this));"
      ]
     },
     "metadata": {},
     "output_type": "display_data"
    }
   ],
   "source": [
    "import os\n",
    "import sys\n",
    "import multiprocessing\n",
    "import numpy as np\n",
    "\n",
    "#토큰화\n",
    "from konlpy.tag import Twitter\n",
    "twi_tagger = Twitter()\n",
    "\n",
    "#word2vec 모델링\n",
    "import gensim\n",
    "from gensim.models import word2vec\n",
    "\n",
    "#차원 축소 및 시각화 \n",
    "from sklearn.manifold import TSNE\n",
    "from bokeh.plotting import figure, show, save , output_notebook\n",
    "from bokeh.models import ColumnDataSource, LabelSet\n",
    "from bokeh import palettes\n",
    "output_notebook()\n",
    "%matplotlib inline"
   ]
  },
  {
   "cell_type": "code",
   "execution_count": 18,
   "metadata": {
    "collapsed": true
   },
   "outputs": [],
   "source": [
    "def tokenizer(doc):\n",
    "    tokens = ['/'.join(t)for t in twi_tagger.pos(doc,norm=True, stem = True)]\n",
    "    return tokens"
   ]
  },
  {
   "cell_type": "code",
   "execution_count": 19,
   "metadata": {},
   "outputs": [
    {
     "data": {
      "text/plain": [
       "['흠/Noun',\n",
       " '.../Punctuation',\n",
       " '포스터/Noun',\n",
       " '보고/Noun',\n",
       " '초딩/Noun',\n",
       " '영화/Noun',\n",
       " '줄/Noun',\n",
       " '..../Punctuation',\n",
       " '오버/Noun',\n",
       " '연기/Noun',\n",
       " '조차/Josa',\n",
       " '가볍다/Adjective',\n",
       " '않다/Verb']"
      ]
     },
     "execution_count": 19,
     "metadata": {},
     "output_type": "execute_result"
    }
   ],
   "source": [
    "tokenizer(reviews[1])"
   ]
  },
  {
   "cell_type": "code",
   "execution_count": 20,
   "metadata": {},
   "outputs": [
    {
     "name": "stdout",
     "output_type": "stream",
     "text": [
      "CPU times: user 5min 42s, sys: 3.29 s, total: 5min 45s\n",
      "Wall time: 5min 36s\n"
     ]
    }
   ],
   "source": [
    "%%time\n",
    "# Tokenize on every reviews.\n",
    "reviews = [tokenizer(review) for review in reviews]"
   ]
  },
  {
   "cell_type": "code",
   "execution_count": 21,
   "metadata": {
    "collapsed": true
   },
   "outputs": [],
   "source": [
    "#Set parameters\n",
    "num_features = 300 # word vector dimensionality\n",
    "min_word_count = 1 #Minimum word count\n",
    "num_workers = multiprocessing.cpu_count() # number of threads to run in parallel\n",
    "context = 4 #context size\n",
    "\n",
    "iter_  = 100 # Iteration\n",
    "sg = 1 # Skip-gram or not\n",
    "\n",
    "model_name = '{}dim_{}minwords_{}context_twi'.format(num_features,min_word_count,context)"
   ]
  },
  {
   "cell_type": "code",
   "execution_count": 22,
   "metadata": {},
   "outputs": [
    {
     "name": "stdout",
     "output_type": "stream",
     "text": [
      "CPU times: user 1h 27min 5s, sys: 26.4 s, total: 1h 27min 32s\n",
      "Wall time: 24min 44s\n"
     ]
    }
   ],
   "source": [
    "%%time\n",
    "#train a word2vec model\n",
    "model = word2vec.Word2Vec(reviews,workers= num_workers,\\\n",
    "                         size = num_features, min_count= min_word_count, \\\n",
    "                         window = context , iter = iter_,sg = sg\n",
    "                         )"
   ]
  },
  {
   "cell_type": "code",
   "execution_count": 26,
   "metadata": {},
   "outputs": [
    {
     "data": {
      "text/plain": [
       "'w2v/300dim_1minwords_4context_twi'"
      ]
     },
     "execution_count": 26,
     "metadata": {},
     "output_type": "execute_result"
    }
   ],
   "source": [
    "# Save a Word2vec model\n",
    "model_file = os.path.join('w2v', model_name)\n",
    "model_file"
   ]
  },
  {
   "cell_type": "code",
   "execution_count": 28,
   "metadata": {},
   "outputs": [],
   "source": [
    "model.save('./w2v')"
   ]
  },
  {
   "cell_type": "code",
   "execution_count": 29,
   "metadata": {
    "collapsed": true
   },
   "outputs": [],
   "source": [
    "def vis_top_n(model, top, lr=500, n_iter=1000, perplexity=10):\n",
    "    vectors = model.wv.syn0[:top]\n",
    "    labels = model.wv.index2word[:top]\n",
    "\n",
    "    if np.shape(vectors)[1] > 2:\n",
    "        tsne = TSNE(perplexity=perplexity, n_components=2, init='random', n_iter=n_iter, verbose=1, learning_rate=lr, method='exact')  # tsne를 이용한 차원 축소 (n차원 -> 2차원)\n",
    "        vectors = tsne.fit_transform(vectors)\n",
    "\n",
    "    source = ColumnDataSource(\n",
    "        data=dict(\n",
    "            x=vectors.T[0],\n",
    "            y=vectors.T[1],\n",
    "            word=labels,\n",
    "        )\n",
    "    )\n",
    "    label_set = LabelSet(x='x', y='y', text='word', level='glyph', text_color=\"#111111\", text_alpha=0.6, text_font_size='8pt', x_offset=5, y_offset=5, source=source, render_mode='canvas')\n",
    "    tools = \"pan,wheel_zoom,box_zoom,reset,resize\"\n",
    "    p = figure(plot_width=900, plot_height=900, tools=[tools], title='word2vec vis top %i' % top)\n",
    "    p.circle('x', 'y', size=5, source=source, alpha=0.6, fill_color='red', line_color=\"#ff9900\")\n",
    "    p.add_layout(label_set)\n",
    "    show(p)"
   ]
  },
  {
   "cell_type": "code",
   "execution_count": 30,
   "metadata": {},
   "outputs": [
    {
     "name": "stdout",
     "output_type": "stream",
     "text": [
      "[t-SNE] Computing pairwise distances...\n",
      "[t-SNE] Computed conditional probabilities for sample 1000 / 2000\n",
      "[t-SNE] Computed conditional probabilities for sample 2000 / 2000\n",
      "[t-SNE] Mean sigma: 1.356784\n",
      "[t-SNE] KL divergence after 100 iterations with early exaggeration: 34.969561\n",
      "[t-SNE] Error after 225 iterations: 34.969561\n"
     ]
    },
    {
     "data": {
      "text/html": [
       "\n",
       "\n",
       "    <div class=\"bk-root\">\n",
       "        <div class=\"bk-plotdiv\" id=\"578530b3-1513-4003-a6dc-0e52ea7e171d\"></div>\n",
       "    </div>\n",
       "<script type=\"text/javascript\">\n",
       "  \n",
       "  (function(global) {\n",
       "    function now() {\n",
       "      return new Date();\n",
       "    }\n",
       "  \n",
       "    var force = false;\n",
       "  \n",
       "    if (typeof (window._bokeh_onload_callbacks) === \"undefined\" || force === true) {\n",
       "      window._bokeh_onload_callbacks = [];\n",
       "      window._bokeh_is_loading = undefined;\n",
       "    }\n",
       "  \n",
       "  \n",
       "    \n",
       "    if (typeof (window._bokeh_timeout) === \"undefined\" || force === true) {\n",
       "      window._bokeh_timeout = Date.now() + 0;\n",
       "      window._bokeh_failed_load = false;\n",
       "    }\n",
       "  \n",
       "    var NB_LOAD_WARNING = {'data': {'text/html':\n",
       "       \"<div style='background-color: #fdd'>\\n\"+\n",
       "       \"<p>\\n\"+\n",
       "       \"BokehJS does not appear to have successfully loaded. If loading BokehJS from CDN, this \\n\"+\n",
       "       \"may be due to a slow or bad network connection. Possible fixes:\\n\"+\n",
       "       \"</p>\\n\"+\n",
       "       \"<ul>\\n\"+\n",
       "       \"<li>re-rerun `output_notebook()` to attempt to load from CDN again, or</li>\\n\"+\n",
       "       \"<li>use INLINE resources instead, as so:</li>\\n\"+\n",
       "       \"</ul>\\n\"+\n",
       "       \"<code>\\n\"+\n",
       "       \"from bokeh.resources import INLINE\\n\"+\n",
       "       \"output_notebook(resources=INLINE)\\n\"+\n",
       "       \"</code>\\n\"+\n",
       "       \"</div>\"}};\n",
       "  \n",
       "    function display_loaded() {\n",
       "      if (window.Bokeh !== undefined) {\n",
       "        var el = document.getElementById(\"578530b3-1513-4003-a6dc-0e52ea7e171d\");\n",
       "        el.textContent = \"BokehJS \" + Bokeh.version + \" successfully loaded.\";\n",
       "      } else if (Date.now() < window._bokeh_timeout) {\n",
       "        setTimeout(display_loaded, 100)\n",
       "      }\n",
       "    }\n",
       "  \n",
       "    function run_callbacks() {\n",
       "      window._bokeh_onload_callbacks.forEach(function(callback) { callback() });\n",
       "      delete window._bokeh_onload_callbacks\n",
       "      console.info(\"Bokeh: all callbacks have finished\");\n",
       "    }\n",
       "  \n",
       "    function load_libs(js_urls, callback) {\n",
       "      window._bokeh_onload_callbacks.push(callback);\n",
       "      if (window._bokeh_is_loading > 0) {\n",
       "        console.log(\"Bokeh: BokehJS is being loaded, scheduling callback at\", now());\n",
       "        return null;\n",
       "      }\n",
       "      if (js_urls == null || js_urls.length === 0) {\n",
       "        run_callbacks();\n",
       "        return null;\n",
       "      }\n",
       "      console.log(\"Bokeh: BokehJS not loaded, scheduling load and callback at\", now());\n",
       "      window._bokeh_is_loading = js_urls.length;\n",
       "      for (var i = 0; i < js_urls.length; i++) {\n",
       "        var url = js_urls[i];\n",
       "        var s = document.createElement('script');\n",
       "        s.src = url;\n",
       "        s.async = false;\n",
       "        s.onreadystatechange = s.onload = function() {\n",
       "          window._bokeh_is_loading--;\n",
       "          if (window._bokeh_is_loading === 0) {\n",
       "            console.log(\"Bokeh: all BokehJS libraries loaded\");\n",
       "            run_callbacks()\n",
       "          }\n",
       "        };\n",
       "        s.onerror = function() {\n",
       "          console.warn(\"failed to load library \" + url);\n",
       "        };\n",
       "        console.log(\"Bokeh: injecting script tag for BokehJS library: \", url);\n",
       "        document.getElementsByTagName(\"head\")[0].appendChild(s);\n",
       "      }\n",
       "    };var element = document.getElementById(\"578530b3-1513-4003-a6dc-0e52ea7e171d\");\n",
       "    if (element == null) {\n",
       "      console.log(\"Bokeh: ERROR: autoload.js configured with elementid '578530b3-1513-4003-a6dc-0e52ea7e171d' but no matching script tag was found. \")\n",
       "      return false;\n",
       "    }\n",
       "  \n",
       "    var js_urls = [];\n",
       "  \n",
       "    var inline_js = [\n",
       "      function(Bokeh) {\n",
       "        (function() {\n",
       "          var fn = function() {\n",
       "            var docs_json = {\"a6d5a439-1eb2-40a0-b9ce-8f5565c71d63\":{\"roots\":{\"references\":[{\"attributes\":{\"data_source\":{\"id\":\"1c7c0a9b-79f3-4eb7-aff3-564ac33def75\",\"type\":\"ColumnDataSource\"},\"glyph\":{\"id\":\"587da46d-acca-4d5b-99aa-69a1dc621cb4\",\"type\":\"Circle\"},\"hover_glyph\":null,\"muted_glyph\":null,\"nonselection_glyph\":{\"id\":\"c46fbf45-4710-4c82-a27f-a3020c7372c2\",\"type\":\"Circle\"},\"selection_glyph\":null},\"id\":\"8e87cd91-dcff-411e-8db7-380f26cdde4d\",\"type\":\"GlyphRenderer\"},{\"attributes\":{},\"id\":\"1ec1c34f-acc7-4b6a-8356-37f6d55b3954\",\"type\":\"BasicTickFormatter\"},{\"attributes\":{\"formatter\":{\"id\":\"1ec1c34f-acc7-4b6a-8356-37f6d55b3954\",\"type\":\"BasicTickFormatter\"},\"plot\":{\"id\":\"753db811-2c51-4adf-a091-bf435a49cb7d\",\"subtype\":\"Figure\",\"type\":\"Plot\"},\"ticker\":{\"id\":\"81a8b977-40e2-43e6-86cd-012b2086033e\",\"type\":\"BasicTicker\"}},\"id\":\"47a633de-4068-4865-a56d-d30075de1188\",\"type\":\"LinearAxis\"},{\"attributes\":{\"active_drag\":\"auto\",\"active_scroll\":\"auto\",\"active_tap\":\"auto\",\"tools\":[{\"id\":\"6e219d0f-f52e-4a97-b0c8-066d3a31e0ce\",\"type\":\"PanTool\"},{\"id\":\"59561aac-600f-484d-b7dc-bf021f592cfe\",\"type\":\"WheelZoomTool\"},{\"id\":\"50fd7587-c6a0-4b34-943e-002234f53811\",\"type\":\"BoxZoomTool\"},{\"id\":\"ef4347fd-9d98-4c7c-9104-58991df2f7c3\",\"type\":\"ResetTool\"},{\"id\":\"61915fed-2df6-4cbb-abcc-709ea991fbf2\",\"type\":\"ResizeTool\"}]},\"id\":\"584180fd-1a83-4d4c-a988-39ac55fb20df\",\"type\":\"Toolbar\"},{\"attributes\":{\"below\":[{\"id\":\"47a633de-4068-4865-a56d-d30075de1188\",\"type\":\"LinearAxis\"}],\"left\":[{\"id\":\"20c6a431-2265-4472-b8fa-41f3317aea00\",\"type\":\"LinearAxis\"}],\"plot_height\":900,\"plot_width\":900,\"renderers\":[{\"id\":\"47a633de-4068-4865-a56d-d30075de1188\",\"type\":\"LinearAxis\"},{\"id\":\"454d3f5f-be08-4268-a83a-317eed1b140a\",\"type\":\"Grid\"},{\"id\":\"20c6a431-2265-4472-b8fa-41f3317aea00\",\"type\":\"LinearAxis\"},{\"id\":\"2e2966a3-da78-446f-9678-6073e5234792\",\"type\":\"Grid\"},{\"id\":\"6f141827-054b-4149-b8ee-0b53997922d1\",\"type\":\"BoxAnnotation\"},{\"id\":\"8e87cd91-dcff-411e-8db7-380f26cdde4d\",\"type\":\"GlyphRenderer\"},{\"id\":\"25277b45-d0fa-43f2-ba01-ebbc5834389a\",\"type\":\"LabelSet\"}],\"title\":{\"id\":\"4eaca60a-1c3e-48c7-aba4-e618442efc39\",\"type\":\"Title\"},\"tool_events\":{\"id\":\"6095ea36-486c-4638-9d6e-4ec81065be83\",\"type\":\"ToolEvents\"},\"toolbar\":{\"id\":\"584180fd-1a83-4d4c-a988-39ac55fb20df\",\"type\":\"Toolbar\"},\"x_range\":{\"id\":\"fd07c1a2-2396-494b-b707-a0abe249e504\",\"type\":\"DataRange1d\"},\"y_range\":{\"id\":\"ae020ae7-771b-43d3-8d27-2d6ada5213dd\",\"type\":\"DataRange1d\"}},\"id\":\"753db811-2c51-4adf-a091-bf435a49cb7d\",\"subtype\":\"Figure\",\"type\":\"Plot\"},{\"attributes\":{\"callback\":null},\"id\":\"fd07c1a2-2396-494b-b707-a0abe249e504\",\"type\":\"DataRange1d\"},{\"attributes\":{\"callback\":null,\"column_names\":[\"x\",\"y\",\"word\"],\"data\":{\"word\":[\"./Punctuation\",\"\\uc601\\ud654/Noun\",\"\\ud558\\ub2e4/Verb\",\"\\uc774/Josa\",\"\\ubcf4\\ub2e4/Verb\",\"\\uc758/Josa\",\"../Punctuation\",\"\\uc5d0/Josa\",\"\\uac00/Josa\",\"\\uc744/Josa\",\"\\ub3c4/Josa\",\".../Punctuation\",\"\\uc740/Josa\",\"\\ub4e4/Suffix\",\",/Punctuation\",\"\\ub294/Josa\",\"\\uc5c6\\ub2e4/Adjective\",\"\\ub97c/Josa\",\"\\uc788\\ub2e4/Adjective\",\"\\uc88b\\ub2e4/Adjective\",\"\\ub108\\ubb34/Noun\",\"\\ub418\\ub2e4/Verb\",\"\\uc774/Determiner\",\"?/Punctuation\",\"\\uc7ac\\ubc0c\\ub2e4/Adjective\",\"\\uc815\\ub9d0/Noun\",\"\\u314b\\u314b/KoreanParticle\",\"\\ub2e4/Josa\",\"\\uac83/Noun\",\"\\uc774/Noun\",\"\\uc9c4\\uc9dc/Noun\",\"\\uac19\\ub2e4/Adjective\",\"\\ud55c/Josa\",\"!/Punctuation\",\"\\uc801/Suffix\",\"\\uc73c\\ub85c/Josa\",\"\\uc544\\ub2c8\\ub2e4/Adjective\",\"\\uc54a\\ub2e4/Verb\",\"\\ub85c/Josa\",\"\\uc810/Noun\",\"\\uc5f0\\uae30/Noun\",\"\\ub9cc/Josa\",\"\\ub098\\uc624\\ub2e4/Verb\",\"\\ub9cc\\ub4e4\\ub2e4/Verb\",\"\\uc774\\ub807\\ub2e4/Adjective\",\"\\uc5d0\\uc11c/Josa\",\"\\ud3c9\\uc810/Noun\",\"~/Punctuation\",\"\\uacfc/Josa\",\"\\ucd5c\\uace0/Noun\",\"\\uc774\\ub2e4/Verb\",\"1/Number\",\"\\uc65c/Noun\",\"\\uc0dd\\uac01/Noun\",\"\\uc2a4\\ud1a0\\ub9ac/Noun\",\"\\uc778/Josa\",\"..../Punctuation\",\"\\ub4dc\\ub77c\\ub9c8/Noun\",\"\\uc774\\ub2e4/Josa\",\"\\uac10\\ub3d9/Noun\",\"\\uc0ac\\ub78c/Noun\",\"\\ubcf4\\uace0/Noun\",\"\\ub9d0/Noun\",\"\\ub354/Noun\",\"\\uc544\\uae5d\\ub2e4/Adjective\",\"\\ub0b4/Noun\",\"\\ub2e4/Adverb\",\"\\ub54c/Noun\",\"\\ubc30\\uc6b0/Noun\",\"\\uace0/Josa\",\"\\uc548/Noun\",\"\\uac10\\ub3c5/Noun\",\"\\uc7ac\\ubbf8\\uc788\\ub2e4/Adjective\",\"\\uadf8\\ub0e5/Noun\",\"\\ud55c/Determiner\",\"\\uc640/Josa\",\"\\uac8c/Josa\",\"\\uac70/Noun\",\"\\ubb50/Noun\",\"\\ub0b4\\uc6a9/Noun\",\"\\ud558\\uace0/Josa\",\"\\ubd10/Noun\",\"\\uc7ac\\ubbf8/Noun\",\"\\uc548/VerbPrefix\",\"\\uc2dc\\uac04/Noun\",\"\\uc544/Exclamation\",\"\\uadf8/Noun\",\"!!/Punctuation\",\"\\ub4e4\\ub2e4/Verb\",\"\\uc7ac\\ubbf8\\uc5c6\\ub2e4/Adjective\",\"\\uc790\\ub2e4/Verb\",\"\\uac00\\ub2e4/Verb\",\"\\uc880/Noun\",\"\\uadf8\\ub807\\ub2e4/Adjective\",\"10/Number\",\"\\ubabb/VerbPrefix\",\"\\uc9c0\\ub8e8\\ud558\\ub2e4/Adjective\",\"\\uc4f0\\ub808\\uae30/Noun\",\"\\uae4c\\uc9c0/Josa\",\"\\uc8fc\\ub2e4/Verb\",\"\\ub098/Noun\",\"2/Number\",\"\\uc218/Noun\",\"\\uc2f6\\ub2e4/Verb\",\"\\uc0ac\\ub791/Noun\",\"\\uc54c\\ub2e4/Verb\",\"\\uc791\\ud488/Noun\",\"\\ud558\\ub098/Noun\",\"\\ub2e4\\uc2dc/Noun\",\"\\u3160\\u3160/KoreanParticle\",\"\\ub098/Josa\",\"\\ubcf4\\ub2e4/Josa\",\"\\ub77c/Josa\",\"\\ub9c8\\uc9c0\\ub9c9/Noun\",\"\\uc694/Josa\",\"\\ubcfc/Noun\",\"\\uc9c0/Josa\",\"\\u314b/KoreanParticle\",\"\\uc774\\ub2e4/Adjective\",\"3/Number\",\"\\uc774\\ub807\\uac8c/Adverb\",\"\\ubaa8\\ub974\\ub2e4/Verb\",\"\\ucc98\\uc74c/Noun\",\"\\uc815\\ub3c4/Noun\",\"\\uc644\\uc804/Noun\",\"\\ub9ce\\ub2e4/Adjective\",\"\\ub098\\ub2e4/Verb\",\"\\uc7a5\\uba74/Noun\",\"\\ucc28\\ub2e4/Verb\",\"\\uc561\\uc158/Noun\",\"\\uc778\\ub370/Josa\",\"\\uc9c0\\uae08/Noun\",\"\\ubcf4\\uc774\\ub2e4/Verb\",\"\\ucd5c\\uc545/Noun\",\"'/Punctuation\",\"\\uc774\\uc57c\\uae30/Noun\",\"\\ubcc4\\ub85c/Noun\",\"\\uc911/Suffix\",\"\\ub3c8/Noun\",\"\\uc784/Noun\",\"\\uc5f0\\ucd9c/Noun\",\"\\ub09c/Noun\",\"\\ub05d/Noun\",\"\\ub290\\ub08c/Noun\",\"\\uc88b\\uc544\\ud558\\ub2e4/Adjective\",\"\\ubc1b\\ub2e4/Verb\",\"\\uc4f0\\ub2e4/Verb\",\"\\ub118\\ub2e4/Verb\",\"\\ub4ef/Noun\",\"\\uac78/Noun\",\"\\uac1c/Noun\",\"\\uba85\\uc791/Noun\",\"\\u314e\\u314e/KoreanParticle\",\"\\uc5ed\\uc2dc/Noun\",\"\\uadf8\\ub9ac\\uace0/Conjunction\",\"\\ub144/Noun\",\"\\uc8fc\\uc778\\uacf5/Noun\",\"\\ud568/Noun\",\"\\uc11c/Josa\",\"\\uc774\\ud574/Noun\",\"\\ub0a8\\ub2e4/Verb\",\"^^/Punctuation\",\"\\u3161\\u3161/KoreanParticle\",\"\\ub9ce\\uc774/Adverb\",\"\\uba39\\ub2e4/Verb\",\"\\uad1c\\ucc2e\\ub2e4/Adjective\",\"\\uc5b4\\ub5bb\\ub2e4/Adjective\",\"!!!/Punctuation\",\"\\uc774\\uc601\\ud654/Noun\",\"\\ubc84\\ub9ac\\ub2e4/Verb\",\"\\uadf8/Determiner\",\"\\ub77c\\uace0/Josa\",\"\\ub290\\ub07c\\ub2e4/Verb\",\"\\ub610/Noun\",\"\\uc5ec\\uc790/Noun\",\"\\ub54c\\ubb38/Noun\",\"\\uc798/VerbPrefix\",\"\\ubd84/Noun\",\"\\uc544\\ub984\\ub2f5\\ub2e4/Adjective\",\"\\ubabb/Noun\",\"\\uc911/Noun\",\"\\uae30\\uc5b5/Noun\",\"\\ub0b4/Determiner\",\"\\uc57c/Josa\",\"\\uc774\\uace0/Josa\",\"\\uc5d0\\uac8c/Josa\",\"\\ubcf4\\uae30/Noun\",\"\\uc640/Noun\",\"\\ud3b8/Noun\",\"\\ubd80\\ud130/Josa\",\"\\ubb34\\uc2a8/Noun\",\"\\uc774\\ub098/Josa\",\"\\uc5d4/Josa\",\"\\uc778\\uc0dd/Noun\",\"\\uacb0\\ub9d0/Noun\",\"\\ub9c8\\uc74c/Noun\",\"\\uaf2d/Noun\",\"\\ub791/Josa\",\"\\ud604\\uc2e4/Noun\",\"\\uc560/Noun\",\"\\uc720\\uce58/Noun\",\"\\uc9dc\\uc99d/Noun\",\"\\ubed4\\ud558\\ub2e4/Adjective\",\"\\uc18c\\uc7ac/Noun\",\"\\uc544\\uc27d\\ub2e4/Adjective\",\"\\uc218\\uc900/Noun\",\"\\ub9de\\ub2e4/Verb\",\"\\u3160/KoreanParticle\",\"\\ud558\\uc9c0\\ub9cc/Conjunction\",\"\\ubc18\\uc804/Noun\",\"~~/Punctuation\",\"\\uc5b4\\ub9ac\\ub2e4/Verb\",\"\\ubb34\\uc12d\\ub2e4/Adjective\",\"\\ud5c8\\ub2e4/Verb\",\"\\uc5c6\\uc774/Adverb\",\"\\uba74/Josa\",\"\\uc7ac\\ub2e4/Verb\",\"\\ub0d0/Josa\",\"\\ub124/Josa\",\"\\ub2d8/Suffix\",\"\\ud55c\\ubc88/Noun\",\"\\ub208\\ubb3c/Noun\",\"\\uc778\\uc9c0/Josa\",\";;/Punctuation\",\"\\ub044\\ub2e4/Verb\",\"\\uc6c3\\uae30\\ub2e4/Verb\",\"\\ub9e4\\ub825/Noun\",\"\\uc804\\uac1c/Noun\",\"\\ub05d\\ub098\\ub2e4/Verb\",\"??/Punctuation\",\"\\uc544/Josa\",\"\\ud55c\\uad6d/Noun\",\"\\uac00\\uc7a5/Noun\",\"\\ub0a8\\uc790/Noun\",\"\\uc77c\\ubcf8/Noun\",\"\\uc131/Suffix\",\"\\uac00\\uc2b4/Noun\",\"\\ub0ae\\ub2e4/Adjective\",\"\\uc2ac\\ud504\\ub2e4/Adjective\",\"\\uc54c/Noun\",\"\\ub530\\ub2e4/Verb\",\"\\ub77c\\ub294/Josa\",\"\\uc804/Noun\",\"\\uc9c0\\ub2e4/Verb\",\"\\uc774/Suffix\",\"\\ub192\\ub2e4/Adjective\",\"\\uc8fd\\ub2e4/Verb\",\"\\uc800/Noun\",\"\\uc6d0\\uc791/Noun\",\"\\ub2e4\\ub978/Noun\",\"\\uba4b\\uc9c0\\ub2e4/Adjective\",\"\\uc544\\uc774/Noun\",\"\\ub9d0\\ub2e4/Verb\",\"\\ud06c\\ub2e4/Verb\",\"\\uc9f1/Noun\",\"\\uc9dc\\ub2e4/Verb\",\"\\uae30\\ub300/Noun\",\"\\uc74c\\uc545/Noun\",\"\\uc624\\ub2e4/Verb\",\"\\ub418\\uc5b4\\ub2e4/Verb\",\"\\ud574\\uc8fc\\ub2e4/Verb\",\"\\ubcc4/Noun\",\"\\uc778\\uac04/Noun\",\"\\uc778\\uac00/Josa\",\"\\uc798\\ud558\\ub2e4/Verb\",\"\\uc904/Noun\",\"\\ub0b4\\ub2e4/Verb\",\"\\uc6b0\\ub9ac/Noun\",\"\\uc57c\\ud558\\ub2e4/Adjective\",\"\\uc194\\uc9c1\\ud558\\ub2e4/Adjective\",\"\\ucd94\\ucc9c/Noun\",\"\\uc18d/Noun\",\"\\uc800/Determiner\",\"\\uc2e4\\ub9dd/Noun\",\"4/Number\",\"5/Number\",\"\\ubaa8\\ub4e0/Noun\",\"\\uac8c/Noun\",\"\\uc790\\uccb4/Noun\",\"\\uc528/Suffix\",\"\\uc601\\uc0c1/Noun\",\"\\uc694/Noun\",\"\\ud654/Suffix\",\"\\ube60\\uc9c0\\ub2e4/Verb\",\"\\ub124/Suffix\",\"\\ub3c4/Noun\",\"\\uce58\\ub2e4/Verb\",\"\\ub300\\ubc15/Noun\",\"\\ud574/Josa\",\"\\ucc0d\\ub2e4/Verb\",\"\\uc77c/Noun\",\"\\ub300\\ud55c/Noun\",\"\\ub208/Noun\",\"\\ubc88/Noun\",\"\\ucf54\\ubbf8\\ub514/Noun\",\"\\uce90\\ub9ad\\ud130/Noun\",\"\\ubcf4\\uc9c0/Noun\",\"\\uc774\\ub124/Josa\",\"\\ubaa8\\ub450/Noun\",\"\\ud574\\uc11c/Josa\",\"\\uc9c0\\ub9cc/Josa\",\"\\uadf8\\ub798\\ub3c4/Adverb\",\"\\ub3fc\\ub2e4/Verb\",\"\\ubb54\\uac00/Noun\",\"\\uc5f0\\uae30\\ub825/Noun\",\"\\uc774\\uc0c1/Noun\",\"\\uc774\\uc058\\ub2e4/Adjective\",\"\\uc544\\uc9c1/Noun\",\"\\ubaa8\\uc2b5/Noun\",\"\\uc5ec\\uc6b4/Noun\",\"\\uc804\\ud600/Noun\",\"\\ubbf8\\uce58\\ub2e4/Adjective\",\"\\uc6c0/Noun\",\"\\uadc0\\uc5fd\\ub2e4/Adjective\",\"\\uac1c\\ubd09/Noun\",\"\\uad7f/Noun\",\"\\uadfc\\ub370/Adverb\",\"\\uacf5\\uac10/Noun\",\"\\uc911\\uac04/Noun\",\"\\uae30\\ub300\\ud558\\ub2e4/Adjective\",\"\\ud45c\\ud604/Noun\",\"\\uc2dc\\ub9ac\\uc988/Noun\",\"\\u315c\\u315c/KoreanParticle\",\"\\uc2dc\\ud0a4\\ub2e4/Verb\",\"\\uacc4\\uc18d/Noun\",\"\\uc900/Noun\",\"\\uc5d0\\ub294/Josa\",\"\\uc544\\uc8fc/Noun\",\"-/Punctuation\",\"\\uc774\\uc81c/Noun\",\"\\uc0b4\\ub2e4/Verb\",\"(/Punctuation\",\"\\ub298\\ub2e4/Verb\",\"\\ubd80\\ubd84/Noun\",\"\\uc704/Noun\",\"\\uae30/Noun\",\"\\uac10/Noun\",\";/Punctuation\",\")/Punctuation\",\"7/Number\",\"\\uc774\\ub791/Josa\",\"\\uc81c\\ubaa9/Noun\",\"\\ud798\\ub4e4\\ub2e4/Adjective\",\"\\uac00\\uc871/Noun\",\"OO/Alpha\",\"\\uc9c4\\uc2ec/Noun\",\"\\u314e/KoreanParticle\",\"\\uc774\\ub77c/Josa\",\"\\ub0b4\\ub0b4/Noun\",\"\\uae30\\ubd84/Noun\",\"0/Number\",\"\\ub300\\ub2e8\\ud558\\ub2e4/Adjective\",\"\\uc6a9/Noun\",\"\\uac74\\uc9c0\\ub2e4/Verb\",\"\\ubbff\\ub2e4/Verb\",\"\\ubc16\\uc5d0/Josa\",\"\\ucc98\\ub7fc/Josa\",\"\\ub450/Determiner\",\"\\\"\\\"\\\"\\\"/Punctuation\",\"\\ubab0\\uc785/Noun\",\"\\ub300\\uc0ac/Noun\",\"\\uc5b5\\uc9c0/Noun\",\",,/Punctuation\",\"\\ub300\\ub2e4/Verb\",\"\\ud6c4/Noun\",\"\\uae09/Noun\",\"\\uc5ec\\uc8fc/Noun\",\"\\uc791\\uac00/Noun\",\"\\uc81c/Noun\",\"\\uc774\\ub77c\\ub294/Josa\",\"\\uc695/Noun\",\"\\uc5b4\\uc774/Noun\",\"\\uacf5\\ud3ec/Noun\",\"\\ub5a8\\uc5b4\\uc9c0\\ub2e4/Verb\",\"\\uc2a4\\ub7fd\\ub2e4/Adjective\",\"8/Number\",\"\\uc694\\uc998/Noun\",\"\\uc810\\ub3c4/Noun\",\"\\uc6c3\\ub2e4/Verb\",\"\\uc6b8\\ub2e4/Verb\",\"\\uae34\\uc7a5\\uac10/Noun\",\"\\ube44/Noun\",\"\\uc0b4/Noun\",\"\\uc870\\uae08/Noun\",\"\\uc560\\ub2c8/Noun\",\"\\uc2a4\\ub9b4\\ub7ec/Noun\",\"\\uc794\\uc794/Noun\",\"\\uac1c\\uc778/Noun\",\"\\ubb34\\uc5c7/Noun\",\"\\uadf9\\uc7a5/Noun\",\"\\uc2dc\\uc791/Noun\",\"\\ud2b9\\ud788/Adverb\",\"\\uc7bc/Noun\",\"\\ub370/Noun\",\"\\ud55c\\ud14c/Josa\",\"\\uc0b6/Noun\",\"\\ub178\\ub798/Noun\",\"\\uc774\\uc720/Noun\",\"\\uc774\\uc0c1\\ud558\\ub2e4/Adjective\",\"\\u3161/KoreanParticle\",\"\\uc54c\\ubc14/Noun\",\"\\uae4a\\ub2e4/Adjective\",\"\\ub098\\ub984/Noun\",\"\\uc758/Noun\",\"\\uc81c\\uc77c/Noun\",\"\\uc81c\\ub300\\ub85c/Noun\",\"\\ubfd0/Noun\",\"\\uc608\\uc058\\ub2e4/Adjective\",\"\\ubb3c/Noun\",\"\\ub2f9\\uc2dc/Noun\",\"\\ub188/Noun\",\"\\ucc28\\ub77c\\ub9ac/Noun\",\"\\uc810\\uc218/Noun\",\"\\uc5d0\\ub3c4/Josa\",\"...../Punctuation\",\"\\uc4f8\\ub2e4/Verb\",\"\\ub0a8/Noun\",\"\\ubcf4/Noun\",\"\\ub290\\uaef4\\uc9c0\\ub2e4/Verb\",\"\\ub178\\uc7bc/Noun\",\"\\uc624\\ub79c\\ub9cc/Noun\",\"\\uce5c\\uad6c/Noun\",\"\\ub9c9\\uc7a5/Noun\",\"\\uc811/Noun\",\"\\ub530\\ub73b\\ud558\\ub2e4/Adjective\",\"\\ube7c\\ub2e4/Verb\",\"\\uc758\\ubbf8/Noun\",\"\\uac74/Noun\",\"\\uc601\\ud654\\ub85c/Noun\",\"\\uc138\\uc0c1/Noun\",\"\\uc5b4/Noun\",\"\\\"\\\"\\\"/Punctuation\",\"\\ub825/Suffix\",\"\\uac19\\uc774/Josa\",\"\\uc808\\ub300/Noun\",\"\\ud6cc\\ub96d\\ud558\\ub2e4/Adjective\",\"\\uacf5\\ud3ec\\uc601\\ud654/Noun\",\"\\uc774\\ub77c\\uace0/Josa\",\"\\uc787\\ub2e4/Verb\",\"\\uc2dc\\ub300/Noun\",\"\\ub108\\ubb34\\ub098/Noun\",\"\\ub2e4\\ub974\\ub2e4/Adjective\",\"\\ub958/Noun\",\"\\ub144\\ub300/Noun\",\"\\ucc3e\\ub2e4/Verb\",\"\\ubbf8\\uad6d/Noun\",\"\\u2665/Foreign\",\"\\uc6c3\\uc74c/Noun\",\"9/Number\",\"\\ub300/Suffix\",\"\\ubb58/Noun\",\"\\ub3c4\\ub300\\uccb4/Noun\",\"\\uc0dd\\uac01\\ub098\\ub2e4/Verb\",\"\\uc6b0\\ub9ac\\ub098\\ub77c/Noun\",\"\\uc55e/Noun\",\"\\uae30\\ub2e4/Verb\",\"\\uadf8\\ub9ac\\ub2e4/Verb\",\"\\uc124\\uc815/Noun\",\"\\uc774\\ub780/Josa\",\"6/Number\",\"\\uac4d/Adverb\",\"\\uc218\\uc791/Noun\",\"\\uba85/Noun\",\"\\ucd08\\ubc18/Noun\",\"\\uadf8\\uc800/Adverb\",\"\\ub9dd/Noun\",\"\\uc5c4\\uccad/Adverb\",\"\\ucd9c\\uc5f0/Noun\",\"\\ub531/Adverb\",\"\\uc8fd\\uc774\\ub2e4/Verb\",\"\\ud574\\ubcf4\\ub2e4/Verb\",\"\\uc0ac\\uc2e4/Noun\",\"\\ubc09\\ub2e4/Adjective\",\"\\uc2eb\\ub2e4/Adjective\",\"\\ub9c8\\ub974\\ub2e4/Adjective\",\"\\uc544\\ud504\\ub2e4/Adjective\",\"\\uc774\\uc57c/Josa\",\"\\uc2dc\\ub098\\ub9ac\\uc624/Noun\",\"\\ud544\\uc694\\uc5c6\\ub2e4/Adjective\",\"\\uc7a5\\ub09c/Noun\",\"\\uc18c\\ub984/Noun\",\"\\uc5b4\\uca4c\\ub2e4/Verb\",\"\\uc18c\\ub9ac/Noun\",\"\\ud55c\\uad6d\\uc601/Noun\",\"\\uad00\\uac1d/Noun\",\"\\uc2e0\\uc120\\ud558\\ub2e4/Adjective\",\"\\uc11c\\ub2e4/Verb\",\"\\ub2f5\\ub2f5\\ud558\\ub2e4/Adjective\",\"OOO/Alpha\",\"\\ubd84\\uc704\\uae30/Noun\",\"\\ubd04/Noun\",\"\\ucd94\\uc5b5/Noun\",\"\\uac15\\ucd94/Noun\",\"\\ub354\\ub7fd\\ub2e4/Adjective\",\"\\uba4b\\uc788\\ub2e4/Adjective\",\"\\ubb38\\uc81c/Noun\",\"\\ub098\\uc058\\ub2e4/Adjective\",\"\\uac00\\uc9c0/Noun\",\"\\ubb54/NounPrefix\",\"\\ubab0\\ub974\\ub2e4/Verb\",\"\\ucd5c\\uace0\\ub2e4/Noun\",\"\\ub098\\uac00\\ub2e4/Verb\",\"\\uc878\\uc791/Noun\",\"\\uc9c0\\ub8e8\\ud568/Noun\",\"\\uacb0\\uad6d/Adverb\",\"\\ub2c8/Josa\",\"\\ub9c8\\ub2e4/Josa\",\"\\uc815\\uc2e0/Noun\",\"\\uc790\\uc2e0/Noun\",\"\\uc778\\uc0c1/Noun\",\"\\uc81c\\ubc1c/Noun\",\"\\ud32c/Noun\",\"\\ub193\\ub2e4/Verb\",\"\\uac10\\uc815/Noun\",\"20/Number\",\"\\ubd80\\uc871\\ud558\\ub2e4/Adjective\",\"\\ubb34/Noun\",\"\\uc601\\ud654\\uad00/Noun\",\"\\uc5d0\\uc11c/Noun\",\"\\uc548\\ud0c0\\uae5d\\ub2e4/Adjective\",\"\\uc5c4\\ub9c8/Noun\",\"\\ub9cc/Suffix\",\"\\ub9cc/Noun\",\"\\uc704\\ud574/Noun\",\"\\ud574/Noun\",\"\\uc801\\ub2e4/Verb\",\"~~~/Punctuation\",\"\\uba38/Noun\",\"\\uc624\\ub298/Noun\",\"\\uc774\\uc9c0\\ub9cc/Josa\",\"\\uc8fc\\uc5f0/Noun\",\"\\ub354\\ube59/Noun\",\"\\uc78a\\ub2e4/Verb\",\"\\uc544\\ubb34\\ub9ac/Adverb\",\"\\ub77c\\uba74/Noun\",\"\\ud6c4\\ud68c/Noun\",\"\\ub2c8\\uae4c/Josa\",\"\\ud588\\uc9c0\\ub9cc/Josa\",\"\\uc5d4\\ub529/Noun\",\"\\ud3ec\\uc2a4\\ud130/Noun\",\"\\ud734/Exclamation\",\"\\uc9f1/Suffix\",\"\\ucf54\\ubbf9/Noun\",\"\\ud3c9\\uac00/Noun\",\"\\ub85c/Noun\",\"\\uc5c9/Exclamation\",\"\\uce90\\uc2a4\\ud305/Noun\",\"\\uc5b4\\uc0c9\\ud558\\ub2e4/Adjective\",\"\\uadf8\\ub807\\uac8c/Adverb\",\"\\uc790/Suffix\",\"\\ub4e0/Josa\",\"\\ubc30\\uc6b0\\ub2e4/Verb\",\"\\uc9c4\\ubd80/Noun\",\"\\uc5bc\\ub9c8\\ub098/Noun\",\"\\uc560\\ub2c8\\uba54\\uc774\\uc158/Noun\",\"\\ub4a4/Noun\",\"\\ud0ac\\ub9c1\\ud0c0\\uc784/Noun\",\"\\uc9c4\\uc815/Noun\",\"\\ub4f1/Noun\",\"!!!!/Punctuation\",\"\\uad6c\\uc131/Noun\",\"\\ucc0c\\ub2e4/Verb\",\"\\ub4e4\\uc774\\ub2e4/Verb\",\"\\uc0b4\\ub9ac\\ub2e4/Verb\",\"\\ubc30\\uacbd/Noun\",\"\\uac1c\\uc5f0/Noun\",\"\\ub0a0/Noun\",\"\\ub97c/Noun\",\"\\uc74c/Noun\",\"\\uc2a4\\ub9b4/Noun\",\"\\ud2f0\\ube44/Noun\",\"\\ucda9\\uaca9/Noun\",\"\\uac08\\uc218\\ub85d/Noun\",\"\\uc598\\uae30/Noun\",\"\\u3149\\u3149/KoreanParticle\",\"\\ubfd0/Suffix\",\"\\uc804\\uc7c1/Noun\",\"\\ub9cc\\ud654/Noun\",\"\\uc5ec/Josa\",\"\\ubab0\\uc785\\ub3c4/Noun\",\"\\uc61b\\ub0a0/Noun\",\"\\uc774\\ub984/Noun\",\"\\uc644\\ubcbd\\ud558\\ub2e4/Adjective\",\"\\ub2ec\\ub2e4/Verb\",\"\\uc5ec\\uae30/Noun\",\"\\uc5bc\\uad74/Noun\",\"\\uc608\\uc220/Noun\",\"\\uba38\\ub9ac/Noun\",\"\\ubcf4\\ub2e8/Josa\",\"\\u315c/KoreanParticle\",\"\\ub180\\ub77c\\ub2e4/Verb\",\"\\ub9d8/Noun\",\"\\uc5b8\\uc81c/Noun\",\"\\uc6c3\\uae30/Noun\",\"\\ud568\\uaed8/Adverb\",\"\\ub450/Noun\",\"\\ud589\\ubcf5\\ud558\\ub2e4/Adjective\",\"\\ub2c8/Noun\",\"\\uc601\\ud654\\uc778/Noun\",\"\\ub0ad\\ube44/Noun\",\"\\uc81c\\uc791/Noun\",\"\\uc9c4/Noun\",\"\\uc7a5\\ub974/Noun\",\"\\ub108/Noun\",\"\\uc5b4\\uc6b8\\ub9ac\\ub2e4/Verb\",\"\\uc9c8/Noun\",\"\\uc790/Noun\",\"\\uc77d\\ub2e4/Verb\",\"\\uc5b4\\ub514/Noun\",\"\\ucc45/Noun\",\"\\uadf8\\ub798\\uc11c/Adverb\",\"\\uc774\\ud6c4/Noun\",\"\\uc9d1\\uc911/Noun\",\"\\ud6c4\\ubc18/Noun\",\"\\uc990\\uac81\\ub2e4/Adjective\",\"\\uadf8\\uac83/Noun\",\"\\ub2e4\\ud050/Noun\",\"\\ub9e4\\uc6b0/Noun\",\"\\uc9d1/Noun\",\"\\uc0c1\\ud669/Noun\",\"\\uc5ed\\uc0ac/Noun\",\"\\uc778\\uacf5/Noun\",\"\\ud310/Noun\",\"+/Punctuation\",\"\\ub458/Noun\",\"\\uaf64/Noun\",\",,,/Punctuation\",\"\\ub204\\uad6c/Noun\",\"\\uc791/Noun\",\"\\uc2dc\\uc98c/Noun\",\"\\uae09/Suffix\",\"\\ud130\\uc9c0\\ub2e4/Verb\",\"\\uc0c8\\ub86d\\ub2e4/Adjective\",\"???/Punctuation\",\"\\uc7a1\\ub2e4/Verb\",\"\\uc2dd/Suffix\",\"\\uc2ec\\ud558\\ub2e4/Adjective\",\"\\ucda9\\ubd84\\ud558\\ub2e4/Adjective\",\"\\uac74\\uac00/Noun\",\"\\ub2e4\\uc6b4/Noun\",\"\\uac78\\uc791/Noun\",\"\\uc601/Noun\",\"\\uc801/Noun\",\"\\uba40\\ub2e4/Adjective\",\"\\uc874\\ub098/Noun\",\"\\ubd80/Noun\",\"\\ub300\\uccb4/Noun\",\"\\uc774\\ub9ac/Adverb\",\"\\uc608\\uc804/Noun\",\"\\ubd84\\ub4e4/Suffix\",\"\\uba87/NounPrefix\",\"\\uc57d\\uac04/Noun\",\"\\ubcc4\\uc810/Noun\",\"\\ubd88\\uc30d\\ud558\\ub2e4/Adjective\",\"\\uac10\\uc0ac/Noun\",\"B/Alpha\",\"\\uc2e4\\ud654/Noun\",\"\\uad81\\uae08\\ud558\\ub2e4/Adjective\",\"\\uc2e0/Noun\",\"\\uc5b4\\ub290/Adverb\",\"\\uc52c/Noun\",\"\\ud55c\\ub9c8\\ub514/Noun\",\"\\uadf8\\ub098\\ub9c8/Adverb\",\"\\uc790\\uae30/Noun\",\"\\uc778\\ubb3c/Noun\",\"\\ud6e8\\uc52c/Adverb\",\"\\ubc29\\uc1a1/Noun\",\"\\uc0dd\\uae30\\ub2e4/Verb\",\"\\ub204\\uac00/Noun\",\"\\ub9cc\\uc810/Noun\",\"\\ube44\\uc2b7\\ud558\\ub2e4/Adjective\",\"\\ub728\\ub2e4/Verb\",\"\\uc2dc\\uc808/Noun\",\"\\ub0a8\\uae30\\ub2e4/Verb\",\"\\uc26c\\ub2e4/Verb\",\"~!/Punctuation\",\"\\ub4dc\\ub9ac\\ub2e4/Verb\",\"\\ub07c\\ub2e4/Verb\",\"\\uc5b4\\ub835\\ub2e4/Adjective\",\"\\ub124/Determiner\",\"\\uadf8\\ub300\\ub85c/Noun\",\"\\uc720\\ucf8c/Noun\",\"\\ube44\\uad50/Noun\",\"\\ud788/Adverb\",\"\\ub300\\ud574/Noun\",\"\\uc8fc\\uc81c/Noun\",\"\\ube44\\ub514\\uc624/Noun\",\"\\ucd08\\ub529/Noun\",\"\\ubc1c\\uc5f0\\uae30/Noun\",\"\\uadf9/NounPrefix\",\"\\uc0ac\\ud68c/Noun\",\"\\uc544\\ub4e4/Noun\",\"\\ub2f4\\ub2e4/Verb\",\"30/Number\",\"\\ud544\\uc694\\ud558\\ub2e4/Adjective\",\"\\uc778/Noun\",\"\\ub9cc\\ub098\\ub2e4/Verb\",\"\\ub85c\\ub9e8\\uc2a4/Noun\",\"\\uc21c\\uc218\\ud558\\ub2e4/Adjective\",\"\\ub124\\uc774\\ubc84/Noun\",\"\\uc0c1\\ub2f9\\ud558\\ub2e4/Adjective\",\"\\uc6d0/Noun\",\"\\uc804\\uccb4/Noun\",\"\\ud0c0\\ub2e4/Verb\",\"\\uac10\\uc131/Noun\",\"\\uc18c\\uc124/Noun\",\"\\ub2e4\\uc74c/Noun\",\"CG/Alpha\",\"\\uad49\\uc7a5\\ud558\\ub2e4/Adjective\",\"\\uafc8/Noun\",\"\\uac04\\ub9cc/Noun\",\"\\ub780/Noun\",\"\\ud63c\\uc790/Noun\",\"\\ub5a0\\ub098\\ub2e4/Verb\",\"\\uc2dc/Noun\",\"//Punctuation\",\"\\u3137\\u3137/KoreanParticle\",\"\\uae00/Noun\",\"\\uc740/Noun\",\"\\ub450\\ub2e4/Verb\",\"\\ud68c/Noun\",\"\\ucf54/Noun\",\"\\uc5ec\\ubc30\\uc6b0/Noun\",\"\\ub77c\\ub3c4/Josa\",\"\\ucd1d/Noun\",\"100/Number\",\"\\ud798/Noun\",\"\\ub098\\uc11c\\ub2e4/Verb\",\"\\ud3b8\\uc774/Noun\",\"\\ubc18/Noun\",\"\\ub098\\uc774/Noun\",\"\\ub3cc\\ub9ac\\ub2e4/Verb\",\"\\uad73\\ub2e4/Adjective\",\"\\ubc14\\ub85c/Noun\",\"\\uc2a4/Noun\",\"\\uc138/Noun\",\"\\ud574\\ub3c4/Noun\",\";;;/Punctuation\",\"\\uc774\\ub974\\ub2e4/Verb\",\"\\ub118\\uce58\\ub2e4/Verb\",\"\\uc131\\ub8e1/Noun\",\"\\uad6c/Noun\",\"\\ub2f9\\uc2e0/Noun\",\"\\ubcf4\\ub2e4\\ub294/Josa\",\"\\uc624\\ub798/Noun\",\"\\uc0bc\\ub958/Noun\",\"\\ub3cb\\ub2e4/Adjective\",\"\\ubaa9\\uc18c\\ub9ac/Noun\",\"\\ud654\\ub824\\ud558\\ub2e4/Adjective\",\"\\ube68\\ub9ac/Adverb\",\"\\uc0ac\\ub791\\uc2a4\\ub7fd\\ub2e4/Adjective\",\"\\uc5d0\\uc694/Josa\",\"\\uc9c0\\ub098\\ub2e4/Verb\",\"\\ub2f9\\ud558\\ub2e4/Adjective\",\"\\uc5c4\\uccad\\ub098\\ub2e4/Adjective\",\"\\uc774\\ub77c\\ub3c4/Josa\",\"\\uad50\\ud6c8/Noun\",\"\\uc8e0/Josa\",\"\\ud480\\ub2e4/Verb\",\"\\ub144\\ub3c4/Noun\",\"\\uc6b8/Noun\",\"\\ub9cc\\ud558/Noun\",\"\\uc21c\\uac04/Noun\",\"\\uc548\\ubcf4/Noun\",\"\\ub2f5/Noun\",\"\\uc5b4\\uc124\\ud508/Noun\",\"\\ub3d9\\uc548/Noun\",\"\\uc120/Noun\",\"\\uc874\\uc7ac/Noun\",\"\\uac70\\uc758/Noun\",\"\\ub144\\uc804/Noun\",\"\\uc62c\\ub9ac\\ub2e4/Verb\",\"\\uc5b4\\ub978/Noun\",\"\\uadf8\\ub9cc/Adverb\",\"\\uc804\\ubd80/Noun\",\"\\uae30\\ub3c4/Noun\",\"\\uac00\\ubccd\\ub2e4/Adjective\",\"\\uc9c8\\uc9c8/Noun\",\"\\uc624/Noun\",\"\\uba87\\ubc88/Noun\",\"90/Number\",\"\\uc2a4\\ub7ec\\uc6b4/Josa\",\"....../Punctuation\",\"\\ub77c\\ub2c8/Josa\",\"\\uae30\\ub2e4\\ub9ac\\ub2e4/Verb\",\"\\ub3c5\\ud2b9\\ud558\\ub2e4/Adjective\",\"\\uc7ac/Noun\",\"\\ub9d0\\uace0/Josa\",\"\\uc544\\ubc84\\uc9c0/Noun\",\"\\uc880\\ube44/Noun\",\"\\ucd08/Noun\",\"\\uc904\\uac70\\ub9ac/Noun\",\"\\uc2e4\\uc81c/Noun\",\"\\uc810\\uc8fc/Noun\",\"\\uac01\\ubcf8/Noun\",\"\\uc0c1/Suffix\",\"\\uc8fd/Noun\",\"\\ud310\\ud0c0\\uc9c0/Noun\",\"\\ub9de\\ucd94\\ub2e4/Verb\",\"\\uc131\\uc6b0/Noun\",\"\\ub9dd\\uce58\\ub2e4/Verb\",\"\\ud3c9\\ub860\\uac00/Noun\",\"\\uc131/Noun\",\"\\uc800\\ub7f0/Noun\",\"\\uc2dc\\uccad\\ub960/Noun\",\"\\uc794\\uc778/Noun\",\"\\uc5d0\\uc120/Josa\",\"\\ud765\\ubbf8\\ub86d\\ub2e4/Adjective\",\"\\uc0c1\\uc601/Noun\",\"\\ud3c9/Noun\",\"\\uc774\\uc9c0/Noun\",\"\\ucbe4/Suffix\",\"\\uadf8\\ub7ec\\ub098/Conjunction\",\"\\uae4c\\uc9c0/Noun\",\"\\uc774\\ubc88/Noun\",\"\\uc73c\\ub85c\\ub3c4/Josa\",\"\\uae30\\ub300\\ub2e4/Verb\",\"\\uce58\\uace0/Josa\",\"\\uac11\\uc790\\uae30/Noun\",\"\\uc138\\uacc4/Noun\",\"\\ud5c8\\ubb34/Noun\",\"\\uac00\\uce58/Noun\",\"\\ub538/Noun\",\"\\ubc14\\uafb8\\ub2e4/Verb\",\"\\uacf3/Noun\",\"\\uadf9\\uc7a5\\ud310/Noun\",\"\\ubc1c/Noun\",\"\\uc758\\ub3c4/Noun\",\"\\ub123\\ub2e4/Verb\",\"\\uc911\\uad6d/Noun\",\"TV/Alpha\",\"\\ud544\\uc694/Noun\",\"\\ubc14\\ub77c\\ub2e4/Verb\",\"\\uac04/Suffix\",\"\\uc694\\uc18c/Noun\",\"\\ubcf4\\ub0b4\\ub2e4/Verb\",\"\\uc774\\ud558/Noun\",\"\\uc774\\uae30\\ub2e4/Verb\",\"\\ub9db/Noun\",\"\\uc624\\uae00\\uac70\\ub9ac\\ub2e4/Adjective\",\"\\ud654\\uba74/Noun\",\"\\ud55c\\ud3b8/Noun\",\"\\uac04\\ub2e4/Noun\",\"\\uadf8\\ub140/Noun\",\"\\uae4c\\ub2e4/Verb\",\"\\ub798/Josa\",\"\\uac1c/Suffix\",\"\\uc628/Noun\",\"\\ub9cc\\ub4e4\\uc5b4\\uc9c0\\ub2e4/Verb\",\"\\uadf8\\ub54c/Noun\",\"\\ud56d\\uc0c1/Noun\",\"\\uc5d0\\uc11c\\ub3c4/Josa\",\"\\ubd88\\ub2e4/Verb\",\"\\ubcfc\\ub54c/Noun\",\"\\ub4e4\\uc5b4\\uac00\\ub2e4/Verb\",\"\\ub530\\uc704/Noun\",\"\\uc120\\ud0dd/Noun\",\"\\ub2e8\\uc21c\\ud558\\ub2e4/Adjective\",\"\\uc5ed/Noun\",\"\\uac70\\ub9ac/Noun\",\"\\ub55c/Noun\",\"\\ubcf5\\uc218/Noun\",\"\\ubc11/Noun\",\"\\ud765\\ud589/Noun\",\"\\uc798\\ubabb/Noun\",\"\\uc810\\uc900/Noun\",\"\\uace0/Noun\",\"\\ud0c4\\ud0c4/Noun\",\"\\ub9c9/Noun\",\"\\uc77c\\ub2e8/Noun\",\"\\uc2a4\\ud0c0\\uc77c/Noun\",\"\\uac70\\uae30/Noun\",\"\\uc774\\uc5d0\\uc694/Josa\",\"\\uac16\\ub2e4/Verb\",\"\\ub098\\ub77c/Noun\",\"\\uc5d0\\uc11c\\ub294/Josa\",\"\\ub4e3\\ub2e4/Verb\",\"\\uc5ec\\ub7ec/Noun\",\"\\uac00\\ubcf4\\ub2e4/Verb\",\"\\uac78\\ub9ac\\ub2e4/Verb\",\"\\uc7a5/Suffix\",\"\\uba5c\\ub85c/Noun\",\"\\ud53c/Noun\",\"\\ubd80\\ub974\\ub2e4/Verb\",\"\\uac78\\ub2e4/Verb\",\"\\ucca8/Adverb\",\"%/Punctuation\",\"\\uc778\\uac70/Josa\",\"\\uc5b4\\ub514\\uc11c/Adverb\",\"\\uba54\\ub2e4/Verb\",\"\\ucc38\\uace0/Noun\",\"\\uc810\\uc810/Noun\",\"\\ud655\\uc2e4\\ud558\\ub2e4/Adjective\",\"\\uc544\\ube60/Noun\",\"\\ub610\\ud55c/Noun\",\"\\uc0ac\\uac74/Noun\",\"\\ub625/Noun\",\"\\uc5ed\\ub300/Noun\",\"\\uc608\\uc0c1/Noun\",\"\\ub77c\\uc11c/Josa\",\"\\ub354\\uc6b1/Noun\",\"\\uc220/Noun\",\"\\uac08\\ub2e4/Verb\",\"\\uad00\\ub78c/Noun\",\"tv/Alpha\",\"\\ubd88\\ud3b8\\ud558\\ub2e4/Adjective\",\"\\uc190/Noun\",\"\\uc990\\uae30\\ub2e4/Verb\",\"\\uc5ec/Noun\",\"\\ubb3c\\ub860/Noun\",\"\\uc783\\ub2e4/Verb\",\"\\ub0ab\\ub2e4/Noun\",\"\\uc644\\uc131/Noun\",\"\\uac1c\\uadf8/Noun\",\"80/Number\",\"\\uc9c4\\ud589/Noun\",\"\\ubed4/Noun\",\"\\ub611\\uac19\\ub2e4/Adjective\",\"\\ub9ac/Noun\",\"\\ub3cb\\ubcf4\\uc774\\ub2e4/Verb\",\":/Punctuation\",\"\\uc9e7\\ub2e4/Adjective\",\"\\ud3b8\\uc9d1/Noun\",\"\\ubcd1\\ub9db/Noun\",\"\\uba87/Noun\",\"\\uc5d0\\uac90/Josa\",\"\\ud3c9\\ubc94\\ud558\\ub2e4/Adjective\",\"\\ub9cc\\uc5d0/Josa\",\"\\ub54c\\ub9ac\\ub2e4/Verb\",\"\\ud654\\uc774\\ud305/Noun\",\"\\uc5c9\\ub9dd/Noun\",\"\\ub313\\uae00/Noun\",\"\\uc911\\uc694\\ud558\\ub2e4/Adjective\",\"\\uc804\\ud615/Noun\",\"\\uadc0\\uc2e0/Noun\",\"\\uad00/Noun\",\"\\uc9c0\\uacb9\\ub2e4/Adjective\",\"\\ub6f0\\uc5b4\\ub098\\ub2e4/Adjective\",\"\\uc218\\uac00/Noun\",\"\\ud504\\ub791\\uc2a4/Noun\",\"\\uc5ec\\uc900/Noun\",\"\\ucc3e\\uc544\\ubcf4\\ub2e4/Verb\",\"\\uc2f8\\uc6b0\\ub2e4/Verb\",\"\\ubcf8\\uc601/Noun\",\"\\ubc97\\ub2e4/Verb\",\"\\uafc0\\uc7bc/Noun\",\"\\ubbf8\\ud654/Noun\",\"\\ubc14/Noun\",\"\\uc911\\ubc18/Noun\",\"\\uc801\\ub2f9\\ud558\\ub2e4/Adjective\",\"\\uc77c\\uc774/Noun\",\"\\uadf8\\uac8c/Noun\",\"\\ubd23/Noun\",\"\\uc6d0\\ub798/Noun\",\"\\ud587/Noun\",\"\\uc790\\uadf9/Noun\",\"~!!/Punctuation\",\"\\uc5f4/Noun\",\"\\uc774\\ub77c\\ub2c8/Josa\",\"\\uac00\\uc9c0\\ub2e4/Verb\",\"\\uac10\\uc0c1/Noun\",\"\\ubab8/Noun\",\"\\uccab/Noun\",\"\\uadf8\\ub798\\ud53d/Noun\",\"\\uc8fd\\uc74c/Noun\",\"\\uc2dd\\uc0c1\\ud558\\ub2e4/Adjective\",\"\\ud0c0\\uc784/Noun\",\"\\ud669\\ub2f9/Noun\",\"\\uacfc/Noun\",\"-_-/Punctuation\",\"\\uc0c8\\ub07c/Noun\",\"\\uc529/Suffix\",\"\\ub300\\ub85c/Josa\",\"good/Alpha\",\"\\ud559\\uad50/Noun\",\"\\ucde8\\ud5a5/Noun\",\"\\ubd88\\ub95c/Noun\",\"\\ud765\\ubbf8/Noun\",\"\\ud574\\ub3c4/Josa\",\"\\ub178\\ub825/Noun\",\"\\uc561\\uc158\\uc601\\ud654/Noun\",\"\\ucc99/Noun\",\"\\uc5f0\\uae30\\uc790/Noun\",\"\\ud6c8\\ud6c8\\ud558\\ub2e4/Adjective\",\"\\uc608\\uace0\\ud3b8/Noun\",\"\\uc7a0/Noun\",\"\\ucc9c\\uc7ac/Noun\",\"\\ub300\\uc791/Noun\",\"\\uc798\\ub9cc/Noun\",\"\\uacfc\\uac70/Noun\",\"\\uc790\\uafb8/Noun\",\"\\ub09c/Josa\",\"\\ube44\\ucd94\\ub2e4/Verb\",\"\\uac1c\\ub2e4/Verb\",\"\\ud765\\ubbf8\\uc9c4\\uc9c4/Noun\",\"\\ub9c8\\ubb34\\ub9ac/Noun\",\"\\uc0c1\\uc0c1/Noun\",\"\\uc18d\\ud3b8/Noun\",\"\\uc124\\uba85/Noun\",\"\\ubc14\\ubcf4/Noun\",\"\\ub2e4\\ub8e8\\ub2e4/Verb\",\"\\uc5ec\\uc11c/Josa\",\"\\ucc38\\uc2e0/Noun\",\"\\uac8c\\uc784/Noun\",\"\\ubb34\\uc870\\uac74/Noun\",\"\\ubc30/Noun\",\"\\ub0ab\\ub2e4/Verb\",\"\\ubb34\\uac83/Noun\",\"\\uc0b0/Noun\",\"\\ub300\\ud55c\\ubbfc\\uad6d/Noun\",\"\\uad1c\\ud788/Adverb\",\"\\uc18c\\uc911\\ud558\\ub2e4/Adjective\",\"\\ub3c4\\uc800\\ud788/Noun\",\"\\uc5ed\\uacb9\\ub2e4/Adjective\",\"\\ub9cc\\uc73c\\ub85c\\ub3c4/Josa\",\"\\uacb0\\ud63c/Noun\",\"\\uc624\\ud788\\ub824/Noun\",\"\\uc804\\ub2ec/Noun\",\"\\uc2ec\\ub9ac/Noun\",\"\\ub2e4\\ub2c8\\ub2e4/Verb\",\"\\ub450/Josa\",\"\\uac15\\ud558\\ub2e4/Adjective\",\"\\uc544\\uc800\\uc528/Noun\",\"\\uc2a4\\ud0c0/Noun\",\"\\uadf8\\ub9bc/Noun\",\"\\ud55c\\uc2ec\\ud558\\ub2e4/Adjective\",\"\\ub2ff\\ub2e4/Verb\",\"\\ubc95/Noun\",\"\\ud2f0/Noun\",\"\\ub2e8/Noun\",\"\\uc804\\ud3b8/Noun\",\"ost/Alpha\",\"\\ud754\\ud558\\ub2e4/Adjective\",\"\\uc62c/NounPrefix\",\"\\uc791\\ub2e4/Adjective\",\"\\ub550/Noun\",\"\\uba74/Noun\",\"\\u2661/Foreign\",\"\\uc5b5\\uc9c0\\ub85c/Noun\",\"\\uc9c0\\ub8e8/Noun\",\"\\uc6b0\\uc5f0\\ud788/Adverb\",\"\\uae38\\ub2e4/Adjective\",\"\\ucc28/Noun\",\"\\uc870\\uc5f0/Noun\",\"\\uae38/Noun\",\"\\ubbf8\\uc548\\ud558\\ub2e4/Adjective\",\"\\ub9dd\\uc791/Noun\",\"\\ubb50\\ub77c\\ub2e4/Verb\",\"\\ud45c\\uc815/Noun\",\"\\ud0a4/Noun\",\"\\uae30\\uc5b5\\ub098\\ub2e4/Verb\",\"\\ud658\\uc0c1/Noun\",\"SF/Alpha\",\"\\ud654\\uac00/Noun\",\"\\uc554/Noun\",\"\\uac70\\uc9c0/Noun\",\"\\uba54\\uc138\\uc9c0/Noun\",\"\\ucd5c\\uadfc/Noun\",\"\\uc2e0\\ub2e4/Verb\",\"\\uc720\\uba38/Noun\",\"\\uc90c/Noun\",\"\\uc78a\\ud600\\uc9c0\\ub2e4/Verb\",\"\\ucd2c\\uc601/Noun\",\"\\ud130/Noun\",\"\\ub3cc\\uc544\\uac00\\ub2e4/Verb\",\"\\uc804\\uc124/Noun\",\"\\ud758\\ub9ac\\ub2e4/Verb\",\"\\uad00\\uacc4/Noun\",\"\\ub178\\ucd9c/Noun\",\"\\ub3d9\\ud654/Noun\",\"\\uc9c4\\uc9c0\\ud558\\ub2e4/Adjective\",\"\\ubaa8/Noun\",\"\\uc9d0/Noun\",\"\\uc2dd/Noun\",\"\\ub9c8/Noun\",\"\\ud604\\uc7ac/Noun\",\"\\uacbd\\ucc30/Noun\",\"\\uadf8\\ub2e5/Noun\",\"\\uc608\\uc694/Josa\",\"\\uc5ec\\uc804\\ud558\\ub2e4/Adjective\",\"\\uc601\\uc6c5/Noun\",\"\\uba3c\\uc800/Noun\",\"\\uc8fc\\uc758/Noun\",\"\\ud589\\ub3d9/Noun\",\"\\ubb34\\ube44/Noun\",\"\\uc804\\uc791/Noun\",\"\\ubc14\\ub78c/Noun\",\"\\uca54\\ub2e4/Verb\",\"\\uc0ac\\ub2e4/Verb\",\"\\ud2c0\\ub2e4/Verb\",\"\\ub9cc\\uc758/Josa\",\"\\uc18c\\ub140/Noun\",\"\\ud504\\ub85c\\uadf8\\ub7a8/Noun\",\"\\ub098\\ub974\\ub2e4/Verb\",\"\\ubb18\\uc0ac/Noun\",\"\\uadf9/Suffix\",\"\\ud760/Noun\",\"\\ubcf4\\uc774/Noun\",\"\\ub9cc\\uc871/Noun\",\"\\ub531/VerbPrefix\",\"\\ucd94\\ub2e4/Verb\",\"\\uc2e4\\ud328/Noun\",\"\\uc815/Noun\",\"\\uc11c\\ub85c/Noun\",\"\\uc798\\uc0dd\\uae30\\ub2e4/Adjective\",\"\\uad00\\uc2ec/Noun\",\"\\uc785/Noun\",\"\\u3147/KoreanParticle\",\"\\uc608\\uc0b0/Noun\",\"\\ub9cc\\ud07c/Josa\",\"\\ub178/Noun\",\"\\uc774\\ubbf8/Adverb\",\"\\uc544\\uc26c\\uc6c0/Noun\",\"\\ub4f1\\uc7a5/Noun\",\"\\ud504\\ub85c/Noun\",\">/Punctuation\",\"\\uc820/Noun\",\"\\ud1a0/Noun\",\"\\ub2e4\\ud589/Noun\",\"\\uc3d8\\ub2e4/Verb\",\"\\u3147\\u3147/KoreanParticle\",\"\\uc601\\uc6d0\\ud558\\ub2e4/Adjective\",\"\\uc57d\\ud558\\ub2e4/Adjective\",\"\\ub05d\\ub0b4\\ub2e4/Verb\",\"\\uadf8\\ub7f0\\ub370/Conjunction\",\"\\uc878\\ub77c/Noun\",\"\\ub365\\ub2e4/Adjective\",\"\\ub098\\uc911/Noun\",\"\\uc528/Noun\",\"\\uba70/Josa\",\"\\uc5ed\\ud560/Noun\",\"\\ud654/Noun\",\"\\uc0b4\\uc778/Noun\",\"\\uc5ec\\uc131/Noun\",\"\\ub9ac\\uba54\\uc774\\ud06c/Noun\",\"\\uac81\\ub098\\ub2e4/Verb\",\"\\uc0ac\\ub77c\\uc9c0\\ub2e4/Verb\",\"\\uc9d3/Noun\",\"\\uc774\\uba70/Josa\",\"\\ucc29\\ud558\\ub2e4/Adjective\",\"\\uc660\\uc9c0/Adverb\",\"\\uc6b0/Adverb\",\"\\ubd84/Suffix\",\"\\ub9c8\\uce58/Noun\",\"\\uc9c4\\uc2e4/Noun\",\"D/Alpha\",\"\\uc874/Noun\",\"\\uba4d\\uccad\\ud558\\ub2e4/Adjective\",\"\\uc678/Noun\",\"\\uc81c\\uc791\\ube44/Noun\",\"\\uc131\\uacf5/Noun\",\"\\ucc44\\ub110/Noun\",\"\\ube4c\\ub9ac\\ub2e4/Verb\",\"\\ub4dc/Noun\",\"\\ud2b9\\uc720/Noun\",\"\\uc0b4\\uc544\\uac00\\ub2e4/Verb\",\"\\uac00\\ub2a5\\ud558\\ub2e4/Adjective\",\"\\ud6a8\\uacfc/Noun\",\"\\uac00\\ub054/Noun\",\"\\uc9c0\\ub09c/Noun\",\"\\uc73c/Adverb\",\"\\ucca0\\ud559/Noun\",\"15/Number\",\"\\uacfc\\uc815/Noun\",\"\\uae4a\\uc774/Noun\",\"......./Punctuation\",\"\\uc5b4\\uc124\\ud504/Noun\",\"\\uaca0\\ub2e4/Verb\",\"\\uc778\\uc815/Noun\",\"\\uccad\\ucd98/Noun\",\"\\uc6a9\\ub3c4/Noun\",\"\\ub04c\\ub2e4/Verb\",\"\\ub530\\ub974\\ub2e4/Verb\",\"\\ubbf8\\ub798/Noun\",\"\\ud615\\ub2d8/Noun\",\"\\uc0ac\\uc774/Noun\",\"\\uce58/Noun\",\"\\ubc14\\ub00c\\ub2e4/Verb\",\"cg/Alpha\",\"\\uc9c0\\ub098\\uce58\\ub2e4/Verb\",\"\\uc2f8\\ub2e4/Verb\",\"\\ud76c\\ub9dd/Noun\",\"\\uad70/Suffix\",\"\\ub73b/Noun\",\"\\ucf00\\uc774\\ube14/Noun\",\"\\ubb3b\\ub2e4/Verb\",\"\\ud558\\uc790/Noun\",\"\\ubc94\\uc778/Noun\",\"\\uc870/Noun\",\"\\uc131\\uc7a5/Noun\",\"\\ub7f0\\uac00/Noun\",\"\\uc548\\ub2e4/Verb\",\"\\uc878\\ub9ac\\ub2e4/Verb\",\"\\uc5c7/VerbPrefix\",\"\\uc5bc/Noun\",\"\\uc0b0\\ub9cc/Noun\",\"\\uc0ac\\uadf9/Noun\",\"\\ub2e4\\ub9cc/Noun\",\"\\ub2a5\\ub825/Noun\",\"OST/Alpha\",\"\\uac1c\\ub3c4/Noun\",\"\\uc5bb\\ub2e4/Verb\",\"\\uad70\\ub300/Noun\",\"\\uc548\\ub098/Noun\",\"\\uce74\\uba54\\ub77c/Noun\",\"\\uc2a4\\ucf00\\uc77c/Noun\",\"\\\"\\\"\\\"\\\"\\\"\\\"\\\"/Punctuation\",\"\\ud0dc\\uc5b4\\ub098\\ub2e4/Verb\",\"\\uc0dd/Noun\",\"\\uc2e0\\uae30\\ud558\\ub2e4/Adjective\",\"\\uae30\\uc138/Noun\",\"\\u3145\\u3142/KoreanParticle\",\"\\uace0\\uc0dd/Noun\",\"\\ub530\\ub77c\\ud558\\ub2e4/Verb\",\"\\ubcc4\\ub8e8/Noun\",\"\\uc0dd\\uc560/Noun\",\"\\uc6a9\\uc774/Noun\",\"\\uc878\\ub2e4/Verb\",\"\\uc80a\\ub2e4/Adjective\",\"\\uc704\\ub300\\ud558\\ub2e4/Adjective\",\"\\uc8fc/Noun\",\"\\ubd80\\ud130/Noun\",\"\\uc6b8\\ub9ac\\ub2e4/Verb\",\"\\uaed8/Josa\",\"\\ub3c5\\ub9bd\\uc601\\ud654/Noun\",\"\\uc0c1\\uc0c1\\ub825/Noun\",\"\\uc124\\ub808\\ub2e4/Adjective\",\"\\uc131\\uc778/Noun\",\"\\uccb4/Noun\",\"\\ubbf8\\uc18c/Noun\",\"\\ub2e4\\uc18c/Noun\",\"\\ubb38\\ud654/Noun\",\"\\ub300\\ud558\\ub2e4/Verb\",\"\\ud3c9\\uc0dd/Noun\",\"\\ub85c\\ub294/Josa\",\"\\uace0\\ubbfc/Noun\",\"\\ub9ac\\uc5bc/Noun\",\"\\uac70\\uc9c0\\uac19\\ub2e4/Adjective\",\"\\ub3cc\\ub2e4/Verb\",\"\\uc790\\ub9c9/Noun\",\"\\ub418\\uac8c/Adverb\",\"\\uc5b4\\ub9b0\\uc774/Noun\",\"\\uc2dc\\ub3c4/Noun\",\"\\ub85c\\ub9e8\\ud2f1/Noun\",\"\\ucc28\\uc774/Noun\",\"\\uba54\\uc2dc\\uc9c0/Noun\",\"\\uad7f\\uad7f/Noun\",\"^/Punctuation\",\"\\uace0\\ub9d9\\ub2e4/Adjective\",\"\\ub0a0\\ub2e4/Verb\",\"\\ub9cc\\uc774/Josa\",\"\\ube44\\ub2e4/Verb\",\"\\ubcc0\\ud558\\ub2e4/Adjective\",\"\\ud750\\ub974\\ub2e4/Verb\",\"\\ub9ac\\ubdf0/Noun\",\"\\uacb0\\ub860/Noun\",\"\\uc870\\ucc28/Josa\",\"\\ub299\\ub2e4/Verb\",\"\\ub358\\uc9c0\\ub2e4/Verb\",\"\\ubd80\\uc871/Noun\",\"\\ubc24/Noun\",\"\\ubc15\\uc218/Noun\",\"\\ucee4\\ud50c/Noun\",\"\\uc9c0\\ud0a4\\ub2e4/Verb\",\"\\ubab0\\ub2e4/Verb\",\"\\uc2ac\\ud514/Noun\",\"\\uc73c\\ub85c\\ub294/Josa\",\"\\uc0c8/Noun\",\"\\uc131\\ud558/Noun\",\"\\uc190\\ubc1c/Noun\",\"\\ub300\\ucda9/Noun\",\"\\uc660\\ub9cc\\ud558\\ub2e4/Adjective\",\"\\uad73\\uc774/Noun\",\"\\ub85c\\uc11c/Noun\",\"\\uc8fc\\uae30/Noun\",\"\\ubc1c\\uacac/Noun\",\"\\uad11\\uace0/Noun\",\"\\uc131\\ub3c4/Noun\",\"\\uac10\\ub2e4/Verb\",\"\\ub2e4\\ud558\\ub2e4/Verb\",\"\\uc9f8/Suffix\",\"\\ubb34\\uc2dc/Noun\",\"\\uac04/Noun\",\"\\ube60\\ub974\\ub2e4/Adjective\",\"\\ud3ec\\uc7a5/Noun\",\"\\uc544\\uce68/Noun\",\"\\uc5f0\\uc560/Noun\",\"\\ucc38\\ub2e4/Verb\",\"\\uc138\\ub2e4/Verb\",\"\\uacfc\\uc5f0/Noun\",\"\\uad34\\ubb3c/Noun\",\"\\ubc94\\uc8c4/Noun\",\"\\uc21c/Noun\",\"\\uc800\\ub807\\uac8c/Adverb\",\"\\ubcf4\\uc2dc/Noun\",\"\\uc9d3\\ub2e4/Verb\",\"\\ud55c\\uacc4/Noun\",\"\\ub3d9\\uc0dd/Noun\",\"\\uc2ec/Noun\",\"\\uac10\\ud0c4/Noun\",\"\\uc77c\\uc0c1/Noun\",\"</Punctuation\",\"\\ud750\\ub984/Noun\",\"12/Number\",\"\\ub784/Noun\",\"\\uc5b4\\ucc0c/Noun\",\"\\ud76c\\ub2e4/Adjective\",\"\\uc778\\uae30/Noun\",\"\\uae30\\ubcf8/Noun\",\"\\uc0c1\\ucc98/Noun\",\"\\uca50\\ub2e4/Noun\",\"\\uc790\\uc5f0/Noun\",\"\\ud3ed\\ub825/Noun\",\"\\uba4b/Noun\",\"..?/Punctuation\",\"\\uc6a9\\uc11c/Noun\",\"\\uc6b0\\uc6b8\\ud558\\ub2e4/Adjective\",\"\\uc2dc\\uccad\\uc790/Noun\",\"\\uc624\\uadf8/Noun\",\"40/Number\",\"\\ubcf4\\ub77c/Noun\",\"\\uc0b4\\uc9dd/Noun\",\"\\uc720\\uba85\\ud558\\ub2e4/Adjective\",\"\\uc11c\\ub3c4/Noun\",\"\\ud1b5\\ud574/Noun\",\"\\uc2ec\\uc2ec\\ud558\\ub2e4/Adjective\",\"\\uc870\\ud3ed/Noun\",\"\\ubab8\\ub9e4/Noun\",\"\\uc815\\uc11c/Noun\",\"\\ud3c9\\uc774/Noun\",\"\\uacb0\\uacfc/Noun\",\"\\ubcfc\\uac70\\ub9ac/Noun\",\"\\uc824/Noun\",\"\\uc6ec\\ub9cc\\ud558\\ub2e4/Adjective\",\"\\ucc59\\uae30\\ub2e4/Verb\",\"\\uc77c\\uc5b4\\ub098\\ub2e4/Verb\",\"\\uac1c\\ud310/Noun\",\"\\ub09a/Noun\",\"\\ub355\\ubd84/Noun\",\"\\ub9e8/Noun\",\"\\ud64d\\ubcf4/Noun\",\"\\ub2ec/Noun\",\"~^^/Punctuation\",\"\\ub6f0\\ub2e4/Verb\",\"\\ub04c/Noun\",\"\\uc2dc\\uc120/Noun\",\"\\ud615/Suffix\",\"~~~~/Punctuation\",\"\\uc774\\ub798/Josa\",\"\\uc2eb\\uc5b4\\ud558\\ub2e4/Adjective\",\"\\uc90d\\ub2e4/Verb\",\"\\uc2a4\\ub7fd\\uac8c/Josa\",\"\\uc139\\uc2a4/Noun\",\"\\ucabd/Noun\",\"\\ud575/Noun\",\"\\uc5f4\\uc2ec\\ud788/Adverb\",\"\\uc544\\uc624/Exclamation\",\"\\uc774\\uba74/Noun\",\"\\ud558\\ub8e8/Noun\",\"\\uc57c/Exclamation\",\"\\uc815\\ub9d0\\ub85c/Adverb\",\"\\ub07c\\ub9ac/Noun\",\"\\ud790\\ub9c1/Noun\",\"\\uace0\\uc804/Noun\",\"\\uc790\\uc720/Noun\",\"\\uc624\\ub77d/Noun\",\"\\ud3ec\\uae30/Noun\",\"\\uc601\\ud658/Noun\",\"\\ub208\\ube5b/Noun\",\"\\ubcd1/Noun\",\"\\ubd88\\uac00/Noun\",\"\\uc720/Noun\",\"\\ud45c/Noun\",\"\\uac8c\\uc774/Noun\",\"\\ud558\\ud558/Noun\",\"\\uc774\\uae30/Noun\",\"\\uc218\\ub3c4/Noun\",\"\\ucc21/Adverb\",\"\\ub0b4\\ub9ac\\ub2e4/Verb\",\"\\ucca8/Noun\",\"\\ubb34\\ud611/Noun\",\"\\uae54\\ub054\\ud558\\ub2e4/Adjective\",\"\\ud558\\ub77c/Noun\",\"\\ub0a8\\ub140/Noun\",\"\\ubc18\\uc131/Noun\",\"\\ube44\\uadf9/Noun\",\"\\ud45c\\uc808/Noun\",\"\\uc8c4/Noun\",\"\\uc0ac/Noun\",\"\\uc5d0\\uc11c\\uc758/Josa\",\"\\ub2f4\\uae30\\ub2e4/Verb\",\"\\ucda4/Noun\",\"\\ub531\\ud558\\ub2e4/Adjective\",\"\\uc640\\ub294/Josa\",\"\\ub72c\\uae08/Noun\",\"\\uacf5\\ubd80/Noun\",\"\\ub4f1\\uc7a5\\uc778\\ubb3c/Noun\",\"\\uc6b0\\uc815/Noun\",\"\\ud574\\ud53c\\uc5d4\\ub529/Noun\",\"\\uc5b4\\uc81c/Noun\",\"\\uad6d\\ubbfc/Noun\",\"\\ud1b5\\ucf8c/Noun\",\"\\ub0a8\\ud3b8/Noun\",\"\\ub09c\\ud574/Noun\",\"\\ube5b/Noun\",\"\\uc9c8\\ub9ac/Noun\",\"=/Punctuation\",\"\\ucf54\\ub4dc/Noun\",\"\\uc4f0\\ub798/Noun\",\"\\ud06c\\uac8c/Noun\",\"\\uc9c0\\uad6c/Noun\",\"\\ubc29/Noun\",\"\\ub2f9\\uc5f0\\ud558\\ub2e4/Adjective\",\"\\ubd81\\ud55c/Noun\",\"\\uc815\\uce58/Noun\",\"b/Alpha\",\"\\uc18c\\uc7a5/Noun\",\"\\ud64d\\ucf69/Noun\",\"\\ub9d0\\ub85c/Noun\",\"\\ubcf4\\ub2e4\\ub3c4/Josa\",\"\\ud391\\ud391/Noun\",\"\\ub098\\uba38\\uc9c0/Noun\",\"\\uc758\\uc2ec/Noun\",\"\\ub07c/Noun\",\"\\uacc4/Suffix\",\"(?)/Punctuation\",\"\\ub9c9\\ud310/Noun\",\"\\uc885\\uad50/Noun\",\"\\ubb34\\uc9c0/Noun\",\"\\ub178\\ub2f5/Noun\",\"\\ubd84\\ub178/Noun\",\"\\ubb34\\uac81\\ub2e4/Adjective\",\"\\ubcf4\\uc544/Noun\",\"\\uc790\\uc2dd/Noun\",\"\\ub9cc\\uc73c\\ub85c/Josa\",\"\\uadf8\\ub7ed\\uc800\\ub7ed/Noun\",\"\\ubba4\\uc9c0\\uceec/Noun\",\"\\uc9c0\\ub294/Josa\",\"\\uc774\\uc5f0\\uac78/Noun\",\"\\ubd80\\ub044\\ub7fd\\ub2e4/Adjective\",\"\\uac00\\uba74/Noun\",\"\\ud2b9\\ubcc4\\ud558\\ub2e4/Adjective\",\"\\uc9c0\\ub3c4/Noun\",\"\\ubc29\\uc2dd/Noun\",\"\\ubb50\\uc784/Noun\",\"\\ub2ec\\ub77c/Noun\",\"\\uc545\\uc5ed/Noun\",\"\\ub290\\ub9ac\\ub2e4/Adjective\",\"\\ud1b5/Noun\",\"\\ub4e4\\uc5b4\\uc624\\ub2e4/Verb\",\"\\uc545\\ub2f9/Noun\",\"\\ube75/Noun\",\"\\uc2a4\\ub7f0/Josa\",\"\\ud004\\ub9ac\\ud2f0/Noun\",\"\\ub4dc\\ub7fd/Noun\",\"\\ub290\\uc640\\ub974/Noun\",\"\\ud615\\ud3b8/Noun\",\"\\uc544\\ub828\\ud558\\ub2e4/Adjective\",\"\\ubcf8\\ubc29/Noun\",\"\\uac8c\\ub2e4\\uac00/Noun\",\"\\ubc18\\uac1c/Noun\",\"\\uac10\\uba85/Noun\",\"\\uc870\\uc808/Noun\",\"\\uc0c8\\ubcbd/Noun\",\"\\ubc8c\\uc368/Noun\",\"\\uc870\\uc7a1/Noun\",\"\\uc554\\ud2bc/Adverb\",\"\\uae4c\\uc9c0\\ub294/Josa\",\"\\uc73c\\ub860/Josa\",\"\\ub2e4\\ud050\\uba58\\ud130\\ub9ac/Noun\",\"\\uc778\\uac00\\uc694/Josa\",\"\\uc774\\ub77c\\uc11c/Josa\",\"\\uc5d0\\uac8c\\ub294/Josa\",\"\\ub5bc\\ub2e4/Verb\",\"\\uc5f4\\uc815/Noun\",\"\\ud639\\uc2dc/Noun\",\"\\uaf34/Noun\",\"\\ubd88\\uad6c/Noun\",\"\\ud589\\ubcf5/Noun\",\"\\uc2dc\\uc6d0\\ud558\\ub2e4/Adjective\",\"\\uc758\\ubb38/Noun\",\"\\uc785\\uc7a5/Noun\",\"\\ucc98\\ub7fc/Noun\",\"\\ub9e5/Noun\",\"\\ub0a8\\uc544/Noun\",\"\\uc774\\uc5b4\\uc9c0\\ub2e4/Verb\",\"\\ubd88\\ucf8c/Noun\",\"\\ud76c\\uc0dd/Noun\",\"\\uc5d0\\ub9cc/Josa\",\"\\uadf8\\uac78/Adverb\",\"\\ube5b\\ub098\\ub2e4/Verb\",\"\\ub514\\uc988\\ub2c8/Noun\",\"70/Number\",\"\\uc801\\uc808\\ud558\\ub2e4/Adjective\",\"\\uadf8\\ub2e4\\uc9c0/Noun\",\"\\ubc1c\\uc804/Noun\",\"\\ub300\\ud654/Noun\",\"\\uc624\\ubc84/Noun\",\"\\uadf8\\ub9b0/Noun\",\"\\uc2f8\\uad6c\\ub824/Noun\",\"\\uc62c\\ud574/Noun\",\"&/Punctuation\",\"\\uc0c9\\ub2e4\\ub974\\ub2e4/Adjective\",\"\\uacfc\\ub294/Josa\",\"11/Number\",\"\\ud558\\ub2c8/Noun\",\"\\ub3d9\\ubb3c/Noun\",\"\\ube44\\uc8fc/Noun\",\"\\ubc18\\ubcf5/Noun\",\"\\uc644\\uc804\\ud558\\ub2e4/Adjective\",\"\\uc5f0\\uc608\\uc778/Noun\",\"\\uc9c0\\ub974\\ub2e4/Verb\",\"\\uae30\\uc220/Noun\",\"_/Punctuation\",\"\\ud615/Noun\",\"\\uc880\\ub354/Noun\",\"\\uc678\\uad6d/Noun\",\"\\ud638\\ub7ec/Noun\",\"\\uadf8\\ub807\\ub2e4\\uace0/Conjunction\",\"\\uae34\\uc7a5/Noun\",\"\\uc544\\uc774\\ub3cc/Noun\",\"\\ucc44\\uc6b0\\ub2e4/Verb\",\"\\uc5b8\\uc81c\\ub098/Adverb\",\"\\uc778/Suffix\",\"\\ucd0c\\uc2a4\\ub7fd\\ub2e4/Adjective\",\"\\ub7ec\\ub2dd/Noun\",\"\\uc545/Noun\",\"\\ud48b\\ud48b/Noun\",\"\\uc2dc\\uc0ac\\ud68c/Noun\",\"\\uc18c\\uc18c\\ud558\\ub2e4/Adjective\",\"\\ud758\\ub7ec\\uac00\\ub2e4/Verb\",\"\\uc544\\uc90c\\ub9c8/Noun\",\"\\ub193\\uce58\\ub2e4/Verb\",\"\\ub77c\\uc778/Noun\",\"\\ube68/Noun\",\"\\uc81c\\ub85c/Noun\",\"50/Number\",\"\\uca5d/Adverb\",\"\\uc120\\uc0dd\\ub2d8/Noun\",\"19/Number\",\"\\uae00\\uc384/Noun\",\"\\ube61\\uce58\\ub2e4/Adjective\",\"\\uc774\\uc81c\\uc57c/Noun\",\"\\ub298/Noun\",\"\\ubcfc\\uac8c\\ub2e4/Verb\",\"\\uc2e4\\ub825/Noun\",\"\\uc6d4/Noun\",\"\\uac70\\uc778/Noun\",\"\\ub9e1\\ub2e4/Verb\",\"\\uae30\\uc801/Noun\",\"\\ub9e8\\ub0a0/Adverb\",\"\\uac15\\ub82c\\ud558\\ub2e4/Adjective\",\"\\uc5b4\\uba38\\ub2c8/Noun\",\"\\uccad\\uc18c\\ub144/Noun\",\"\\ud300/Noun\",\"\\ubd88/Noun\",\"\\ubbf8\\ub4dc/Noun\",\"\\uc758\\ub9ac/Noun\",\"\\ub9cc\\ud07c/Noun\",\"\\uc794/Noun\",\"\\ub2f4/Noun\",\"\\ucacc/Noun\",\"\\uc8fc\\uae30\\ub3c4/Noun\",\"\\uc138\\uae30/Noun\",\"\\uc544\\ud514/Noun\",\"\\uc2ec\\uac01\\ud558\\ub2e4/Adjective\",\"\\ub300\\uac00/Noun\",\"\\uae68\\ub2eb\\ub2e4/Verb\",\"\\ubcf8\\uc778/Noun\",\"\\ud574\\uc11d/Noun\",\"\\ub2ee\\ub2e4/Verb\",\"\\uc0ac\\uae30/Noun\",\"\\ub0a0\\ub9ac\\ub2e4/Verb\",\"\\uc804\\ubb38\\uac00/Noun\",\"\\uac80\\uc0c9/Noun\",\"\\ub9c8\\uc800/Josa\",\"\\ud0c0/Noun\",\"\\uc774\\ub2c8/Josa\",\"\\uc678\\ubaa8/Noun\",\"\\ub2e4\\uac00/Noun\",\"\\uc774\\ub8e8\\ub2e4/Verb\",\"\\ubc29\\uae08/Noun\",\"\\ud751/Adverb\",\"\\uc655/Noun\",\"\\uacfc\\uc7a5/Noun\",\"\\ud544\\ub984/Noun\",\"\\uc2f8\\uc6c0/Noun\",\"\\ub2e8\\uc9c0/Noun\",\"\\ubc25/Noun\",\"\\uc5d0\\ub85c/Josa\",\"\\uacfc\\uc758/Josa\",\"\\uaf5d/Noun\",\"\\uc774\\uc790/Noun\",\"\\ud55c\\uad6d\\uc778/Noun\",\"\\uc2dc\\uac01/Noun\",\"\\uc8c4\\ub2e4/Adverb\",\"\\uae68\\ub2e4/Verb\",\"\\ud5d0\\ub9ac\\uc6b0\\ub4dc/Noun\",\"\\ud559\\uc0dd/Noun\",\"\\uc544\\uc9c1\\uae4c\\uc9c0/Noun\",\"\\uc774\\ubbf8\\uc9c0/Noun\",\"\\ub9b0/Noun\",\"\\ubc29\\ubc95/Noun\",\"\\uac08\\ub4f1/Noun\",\"\\ub204\\uad70\\uac00/Noun\",\"\\uacac\\uc790\\ub2e8/Noun\",\"\\ubca0\\uc2a4\\ud2b8/Noun\",\"\\uc2dc\\uc2dc/Noun\",\"\\uc774\\ub4e0/Josa\",\"\\ub2a6\\ub2e4/Verb\",\"\\uc560\\uae30/Noun\",\"\\uc12c\\uc138/Noun\",\"\\ub0b3\\ub2e4/Verb\",\"18/Number\",\"\\ub300\\ud45c/Noun\",\"\\ub54c\\uc6b0\\ub2e4/Adjective\",\"\\uc2dc\\ud2b8\\ucf64/Noun\",\"\\ubf51\\ub2e4/Verb\",\"\\ud788\\uc5b4\\ub85c/Noun\",\"\\uc778\\uc9c0/Noun\",\"\\uc785\\ub2e4/Verb\",\"\\ucc3d/Noun\",\"\\uafb8\\ub2e4/Verb\",\"\\ub77c\\uc9c0/Noun\",\"\\ud604\\ub300/Noun\",\"\\ub2e8\\uc5f0/Noun\",\"\\uadf9\\uce58/Noun\",\"\\uc73c\\ub9ac/Noun\",\"\\uc874\\uacbd/Noun\",\"\\uc0c1/Noun\",\"\\ube44\\ud310/Noun\",\"\\uc5ec\\ud589/Noun\",\"\\ub3cc\\uc544\\uc624\\ub2e4/Verb\",\"\\uc9c4\\ub9ac/Noun\",\"\\ub534\\ub2e4/Adjective\",\"\\ub9c9\\ud788\\ub2e4/Verb\",\"\\uae40\\uae30\\ub355/Noun\",\"\\uc720\\ubc1c/Noun\",\"\\ub85c\\ub9cc/Noun\",\"\\uc804\\ubc18/Noun\",\"\\uc9dd\\ud241/Noun\",\"\\uba85\\ud488/Noun\",\"\\uc5d0\\ud53c\\uc18c\\ub4dc/Noun\",\"\\uc2a4\\uc2a4\\ub85c/Noun\",\"\\ub85c\\ubd07/Noun\",\"\\uae4c\\uc9c4/Josa\",\"\\ub300\\ubd80\\ubd84/Noun\",\"\\uadf8\\uac70/Noun\",\"\\ud3b8\\uc758/Noun\",\"\\ub300\\uc758/Noun\",\"\\ub5a0\\uc624\\ub974\\ub2e4/Verb\",\"\\ub530\\ub77c\\uac00\\ub2e4/Verb\",\"\\ucd5d\\uc624/Noun\",\"\\uc88b\\uc544\\uc9c0\\ub2e4/Adjective\",\"\\uc2ec\\uc7a5/Noun\",\"\\uacbd\\ud5d8/Noun\",\"\\uc870\\ud569/Noun\",\"\\ud53c\\ud574\\uc790/Noun\",\"\\ub2e4\\uac00\\uc624\\ub2e4/Verb\",\"\\ub354\\ubd88\\ub2e4/Verb\",\"\\ubd80\\ubaa8/Noun\",\"\\uc5f0\\uc18d/Noun\",\"\\uc608/Noun\",\"\\uc5c6\\uc5b4\\uc9c0\\ub2e4/Verb\",\"\\ud479/Noun\",\"\\uc774\\uc815/Noun\",\"????/Punctuation\",\"\\ubbfc\\ub9dd/Noun\",\"\\uc591\\uc2ec/Noun\",\"\\uc740\\uadfc/Noun\",\"\\ub124/Noun\",\"\\uad6d\\ub0b4/Noun\",\"\\ud3b8\\ud558\\ub2e4/Adjective\",\"\\uc0dd\\uc0dd/Noun\",\"\\uac15/Noun\",\"\\uc8fc\\ub9d0/Noun\",\"\\uac1c\\ub150/Noun\",\"\\ud5c8\\uc138/Noun\",\"\\uc774\\ub04c\\ub2e4/Verb\",\"\\ud14c\\ub7ec/Noun\",\"\\uc601\\uc5b4/Noun\",\"\\ub2f9/Suffix\",\"\\uc804\\uac1c\\ub3c4/Noun\",\"\\uae30\\ub974\\ub2e4/Verb\",\"\\uae08/Noun\",\"\\ub77c\\uc774/Noun\",\"\\uc5f0\\uacb0/Noun\",\"\\ub9ac\\uc988/Noun\",\"\\ub35c/Noun\",\"\\uc2f8\\uc774\\ucf54/Noun\",\"\\uc228\\ub2e4/Verb\",\"\\uac00\\uae5d\\ub2e4/Adjective\",\"\\ubd84\\uba85/Noun\",\"\\ucf54\\ub09c/Noun\",\"\\uc640\\uc6b0/Noun\",\"\\uc870\\uc791/Noun\",\"\\ud6e8/Noun\",\"\\uc9dd/Noun\",\"\\uc0dd\\ud65c/Noun\",\"\\ub3c4\\uc548/Noun\",\"\\uac1c\\ubfd4/Noun\",\"\\uc0c1\\ubbf8/Noun\",\"\\ubb34\\uc5b8\\uac00/Noun\",\"\\ubfd0\\uc774\\ub2e4/Adjective\",\"\\ud3b8\\uacac/Noun\",\"\\uc624\\ube0c/Noun\",\"\\ubc14\\ub77c\\ubcf4\\ub2e4/Verb\",\"\\uac81\\ub2c8\\ub2e4/Verb\",\"\\ud5d0\\ub9ac\\uc6c3/Noun\",\"\\ubbf8\\ubaa8/Noun\",\"\\ubc88\\uc9f8/Suffix\",\"\\uc6b0\\uc640/Exclamation\",\"\\uc57d/Noun\",\"21/Number\",\"\\uc774\\ub098/Noun\",\"\\ubb34\\ucc99/Noun\",\"\\ub85c\\uc368/Noun\",\"\\ud560\\uba38\\ub2c8/Noun\",\"007/Number\",\"\\uc678\\uacc4\\uc778/Noun\",\"...?/Punctuation\",\"\\uc758\\uc678\\ub85c/Adverb\",\"\\uce90\\ub9ac/Noun\",\"\\uac70\\uc2ac\\ub9ac\\ub2e4/Adjective\",\"\\ud5a5/Noun\",\"\\uc591/Noun\",\"\\uc139\\uc2dc\\ud558\\ub2e4/Adjective\",\"\\uac00\\ub4dd\\ud558\\ub2e4/Adjective\",\"\\uce60/Noun\",\"\\uc9c1\\uc811/Noun\",\"\\uc774\\uc5ec/Josa\",\"\\ube68\\ub2e4/Verb\",\"\\ud55c\\ucc38/Noun\",\"\\uc624\\ube60/Noun\",\".\\\"\\\"\\\"/Punctuation\",\"\\ud3b4\\ub2e4/Verb\",\"......../Punctuation\",\"\\ub808\\uc54c/Noun\",\"\\ubd23\\ub294\\ub370/Noun\",\"\\uc8fc\\ubcc0/Noun\",\"\\uc5b4\\ucc98\\uad6c\\ub2c8/Noun\",\"\\uc758\\uc2dd/Noun\",\"\\uc790\\uc0b4/Noun\",\"\\ub09a\\uc600/Noun\",\",,,,/Punctuation\",\"\\uc73c\\ub85c\\ub9cc/Josa\",\"\\uace0\\uc591\\uc774/Noun\",\"\\uc2a4\\ub7fd\\uc9c0/Josa\",\"[/Punctuation\",\"\\uae30\\uc790/Noun\",\"\\uc544\\ub0b4/Noun\",\"\\uba85\\uc131/Noun\",\"\\uc62c\\ub77c\\uac00\\ub2e4/Verb\",\"\\uac1c\\uc131/Noun\",\"\\ud48d\\uacbd/Noun\",\"\\ub9c8\\uc774\\ub108\\uc2a4/Noun\",\"\\uac00\\uc694/Noun\",\"13/Number\",\"\\uc73c\\ub85c\\uc11c/Josa\",\"\\ucd08\\ub4f1\\ud559\\uc0dd/Noun\",\"\\ubb18/Noun\",\"\\ub3cc\\uc544\\ubcf4\\ub2e4/Verb\",\"\\uc2e0\\uacbd/Noun\",\"\\ud558\\ub098\\ub85c/Noun\",\"\\ub3c4\\uc804/Noun\",\"\\ub9c8\\uc774\\ud074/Noun\",\"\\uc0ac\\uc218/Noun\",\"\\ud615\\uc0ac/Noun\",\"\\uc2e0\\uace0/Noun\",\"\\uc9c0\\uc6b0\\ub2e4/Verb\",\"\\u2665\\u2665/Foreign\",\"\\uac1c\\ub9c9/Noun\",\"\\ubcc0\\ud654/Noun\",\"\\ub9cc\\ub4e4\\uae30/Noun\",\"\\uc870\\uc6a9\\ud558\\ub2e4/Adjective\",\"\\uce7c/Noun\",\"\\uae4e\\ub2e4/Verb\",\"\\uc598/Noun\",\"\\ub294\\uac78/Noun\",\"\\uc601\\ud63c/Noun\",\"\\uac10\\ud788/Noun\",\"\\uc720\\ucf8c\\ud558/Noun\",\"\\uc7a5/Noun\",\"\\uc544\\ub9c8/Noun\",\"\\ub9c9\\uc7a5\\ub4dc\\ub77c\\ub9c8/Noun\",\"]/Punctuation\",\"?!/Punctuation\",\"\\uce74\\ub9ac\\uc2a4\\ub9c8/Noun\",\"\\ud30c\\ub2e4/Verb\",\"\\uce58\\ubc00/Noun\",\"\\ud655/Noun\",\"\\uc904\\ub2e4/Verb\",\"\\uc57c\\ub3d9/Noun\",\"\\u3160\\u315c/KoreanParticle\",\"\\ub2ec\\ub2ec/Noun\",\"\\ub2ec\\ub9ac\\ub2e4/Verb\",\"\\uc774\\ubcf4/Noun\",\"\\uc545\\ub9c8/Noun\",\"\\uaca8/Noun\",\"\\uc751\\uc6d0/Noun\",\"\\ud30c/Noun\",\"\\ubcf5\\uc7a1\\ud558\\ub2e4/Adjective\",\"\\uc624\\ube60/Suffix\",\"\\ud559\\ub144/Noun\",\"\\ud22c\\uc790/Noun\",\"\\ub04c\\ub9ac\\ub2e4/Verb\",\"\\ub3d9\\uc2dc/Noun\",\"\\uc8fc\\uc131\\uce58/Noun\",\"\\ud2b9\\uc218/Noun\",\"\\uc774\\ub3c4/Noun\",\"\\ub7ec\\ube0c/Noun\",\"\\uac00\\uc218/Noun\",\"\\ube44\\ud604\\uc2e4\\uc801/Noun\",\"\\uae68\\uc6b0\\ub2e4/Verb\",\"\\uc790\\uc5f0\\uc2a4\\ub7fd\\ub2e4/Adjective\",\"\\uc815\\uc758/Noun\",\"\\ub808\\uc804\\ub4dc/Noun\",\"\\ub4e4\\uc5b4\\uc11c\\ub2e4/Verb\",\"\\ubb3c\\uc774/Noun\",\"\\uc61b/Noun\",\"x/Alpha\",\"\\uc2a4\\ud2b8\\ub808\\uc2a4/Noun\",\"\\uae30\\uc900/Noun\",\"\\ubd84\\uba85\\ud558\\ub2e4/Adjective\",\"\\uc131\\uaca9/Noun\",\"\\uaca8\\uc6b0/Noun\",\"\\ub86d\\uace0/Josa\",\"\\uc7a0\\uae50/Noun\",\"\\uc815\\ub9d0/Exclamation\",\"\\ud64d\\ucf69\\uc601\\ud654/Noun\",\"\\uc0c1\\uc5c5/Noun\",\"\\ub05d\\ub0b4/Noun\",\"\\ub300\\ubcf8/Noun\",\"\\ud574\\uc9c0/Noun\",\"\\uc774\\ub780/Noun\",\"\\ub0b4\\uba74/Noun\",\"\\uc544\\ubb34\\ub807\\ub2e4/Adjective\",\"\\ubb3c\\ub2e4/Verb\",\"\\ud654\\ub098\\ub2e4/Verb\",\"\\ube48/Noun\",\"\\uc124\\ub9c8/Noun\",\"\\uc138\\uc6d4/Noun\",\"\\ud3ec\\ub974\\ub178/Noun\",\"\\uc606/Noun\",\"\\uace0\\ud1b5/Noun\",\"\\uc544/Noun\",\"\\uad00\\uc810/Noun\",\"\\ud615\\uc81c/Noun\",\"\\uc790\\ub9ac/Noun\",\"\\ub4f1\\ub4f1/Noun\",\"\\ucc44/Noun\",\"\\ubb34\\ud55c/Noun\",\"\\uba74\\uc11c/Noun\",\"\\uc1fc/Noun\",\"\\ucc98/Noun\",\"C/Alpha\",\"\\ubaa8\\uc73c\\ub2e4/Verb\",\"\\uc774\\uc0c1\\uc740/Noun\",\"M/Alpha\",\"\\ucd5c/Noun\",\"\\uc138\\ubc88/Noun\",\"\\uc9d5/Noun\",\"\\uc5bc\\ub9c8/Noun\",\"\\ub9e4\\ub2e4/Verb\",\"\\ub2e4\\uc591\\ud558\\ub2e4/Adjective\",\"\\uc0ac\\uc9c4/Noun\",\"\\ub5a8\\ub2e4/Verb\",\"\\uc5b4\\ub9b0\\uc2dc\\uc808/Noun\",\"\\ub9cc\\ud07c\\uc740/Josa\",\"\\ubca0/Noun\",\"\\uac11/Noun\",\"\\ucc38\\uc73c\\ub85c/Noun\",\"\\uc73c\\ub85c\\uc368/Josa\",\"\\ud3ec\\uc778\\ud2b8/Noun\",\"\\uc0b4\\uc544\\ub098\\ub2e4/Verb\",\",./Punctuation\",\"\\uc7a0\\ub4e4\\ub2e4/Verb\",\"\\ub9e4/Noun\",\"\\uc704\\ub85c/Noun\",\"\\ub530\\ub85c/Adverb\",\"\\uae40/Noun\",\"\\ud3b8\\ub3c4/Noun\",\"\\ud758\\ub974\\ub2e4/Verb\",\"\\uc695\\ub9dd/Noun\",\"\\uad50\\uc721/Noun\",\"\\uc555\\uad8c/Noun\",\"\\uae30\\ud68c/Noun\",\"\\uc774\\uc6a9/Noun\",\"\\uc2dc\\uccad/Noun\",\"\\ub180\\ub2e4/Verb\",\"\\ub118\\uc5b4\\uac00\\ub2e4/Verb\",\"\\uadc0/Noun\",\"\\uce90/Noun\",\"\\uc804\\uc7c1\\uc601\\ud654/Noun\",\"\\ud06c\\ub9ac\\uc2a4\\ub9c8\\uc2a4/Noun\",\"\\uc815\\uccb4/Noun\",\"\\uc798\\ub418\\ub2e4/Verb\",\"\\uc6b0\\uc8fc/Noun\",\"\\ud2b9\\uc774\\ud558\\ub2e4/Adjective\",\"\\uc6b4\\uba85/Noun\",\"\\uc778\\ub4e4/Josa\",\"\\uacf5/Noun\",\"\\ubd80\\ub7fd\\ub2e4/Adjective\",\"\\uc800\\ub7ec\\ub2e4/Verb\",\"\\ubc29\\uc601/Noun\",\"\\uc544\\uc608/Noun\",\"\\uc5f0/Noun\",\"\\ubcc0\\ud0dc/Noun\",\"\\uc801\\uc784/Noun\",\"\\ubc00\\ub9ac\\ub2e4/Verb\",\"\\uc5d0\\ub098/Josa\",\"\\uad6d\\uac00/Noun\",\"\\uc9c4\\ud558\\ub2e4/Adjective\",\"\\uc608\\ub2a5/Noun\",\"\\uc5b5/Noun\",\"\\uc218\\uace0/Noun\",\"\\uc820\\uc7a5/Noun\",\"\\uc0c9\\uac10/Noun\",\"\\ub118\\uae30\\ub2e4/Verb\",\"\\uc228\\uae30\\ub2e4/Verb\",\"\\u3131/KoreanParticle\",\"\\uc6b0\\ub824/Noun\",\"\\uc77c\\ud488/Noun\",\"\\uaebc/Suffix\",\"\\uc6cc/Noun\",\"\\uba48\\ucd94\\ub2e4/Verb\",\"\\ub4ec/Noun\",\"\\ucd5c\\uac15/Noun\",\"\\u3145/KoreanParticle\",\"\\ubcf8\\uc801/Noun\",\"\\ub9cc\\uc740/Josa\",\"\\ub180\\ub78d\\ub2e4/Adjective\",\"\\ucd08\\ub4f1\\ud559\\uad50/Noun\",\"the/Alpha\",\"\\uc548\\uc2b5/Noun\",\"\\uad8c/Suffix\",\"\\uc369\\ub2e4/Verb\",\"\\ud655\\uc778/Noun\",\"\\uc5d0\\ub85c\\uc601\\ud654/Noun\",\"\\uc870/Suffix\",\"\\ubc14\\ub2e4/Noun\",\"\\ubc30\\uc5ed/Noun\",\"\\ubb34\\uc220/Noun\",\"\\uc601\\uad6d/Noun\",\"\\uc2e0\\ubd84/Noun\",\"\\ubbf8\\uac00/Noun\",\"\\ub10c/Noun\",\"\\ub2ec\\ub9ac/Noun\",\"\\uc2dc\\uae30/Noun\",\"\\uc120\\ubb3c/Noun\",\"\\uae30\\ubc1c/Noun\",\"\\ub2c8\\uae50/Josa\",\"\\ud574\\ub0b4\\ub2e4/Verb\",\"DVD/Alpha\",\"\\ud0a4\\uc6b0\\ub2e4/Verb\",\"\\uac16\\ucd94\\ub2e4/Verb\",\"\\uc124\\ub4dd/Noun\",\"\\ud751\\uc778/Noun\",\"\\ub0c4\\uc0c8/Noun\",\"\\uc0c8\\ub2e4/Verb\",\"\\uc815\\uc2e0\\ubcd1/Noun\",\"\\ud2c8/Noun\",\"\\ub9cc\\uc744/Josa\",\"\\ub0b4\\uc0dd/Noun\",\"\\uacb0\\uc815/Noun\",\"\\uca4c/Noun\",\"\\uacf5\\ud3ec\\ubb3c/Noun\",\"\\uadfc\\ub798/Noun\",\"\\uc774\\ub798\\uc11c/Josa\",\"\\ud48d\\uc790/Noun\",\"\\ub098\\ud0c0\\ub098\\ub2e4/Verb\",\"\\uc5b4\\uc694/Noun\",\"\\ubd80\\ubaa8\\ub2d8/Noun\",\"\\uacf5\\uc9dc/Noun\",\"\\ucd5c\\ucd08/Noun\",\"\\uadf8\\uac74/Adverb\",\"\\uc0bc/Noun\",\"\\ub370\\ub9ac/Noun\",\"\\ub300\\uc911/Noun\",\"\\uc2dc\\uc810/Noun\",\"\\ubb34\\ub3c4/Noun\",\"\\ub85c\\uc6b4/Josa\",\"\\uad00\\ub828/Noun\",\"2014/Number\",\"\\uc778\\uc9c0\\ub3c4/Noun\",\"\\ube48\\uc57d/Noun\",\"\\uaf2c\\ub9c8/Noun\",\"\\ubaa8\\uc790\\ub77c\\ub2e4/Verb\",\"\\uc5b8\\ub2c8/Noun\",\"\\uc131\\uc740/Noun\",\"\\ud654\\uc911/Noun\",\"\\ub9cc\\ub0a8/Noun\",\"\\uc637/Noun\",\"\\uc549\\ub2e4/Verb\",\"\\uc18c/Noun\",\"\\ub0ae\\ucd94\\ub2e4/Verb\",\"\\ubd80\\ubd80/Noun\",\"\\uac70\\uc9d3\\ub9d0/Noun\",\"\\uc544\\ub3d9/Noun\",\"\\ubd84\\ub9cc/Noun\"],\"x\":{\"__ndarray__\":\"hQ6ZQvBtNUDA9rZYQjLOv4HOAALf/ENANpe9nlCKAsD0oqenG/IaQEIIVQ0KbhHAi5gP2nb2X8Cak8YeyvbWP3ZpXUOoM8O/7Kv0WbMKBsDdTzpkGK0AwE38UO+hV2NALQEWhd6d979GPuhj5sDov9SGvy9BAw/AeKfXdT8mrL+Gs6T4ExUCwBayZ/Pn+++/7Fa1GvFOCsDHZJ/wFRQiwE8RJ+GQZRLAvJQw3Mb/97+7tocT5IkRQOTmfeoMYPs/dT9mfhbLE8DQZUs1bK/Cv8Ulmbp/if+/rlriP6WB9j/oVJyRGVe6P107lY5S0QhAq0pqjGpG+r/Cmw8/hNfkv8nyiN9/URjAoskLgqn4FMDGTEYGlQIewFyg73EzmhbAAXuhRTUY8b+hbhsIvR0PwOaDm7GVg9Q/Ys+NZlQ5GUCN927Hkyk2wB5WEZSzle6/H0PAzNn/EUBovh66hf4VQM36DLMAYwxAByheGJk6IkDe4mGJOMQHQMxuZz7ZMxDAClG2WG1pEcAlwebneWQNQPdk/PknceY/6ShyQ38c5b+OVsVTCigCQIC5HMvZJARAUMglAz2tKMCdwjx2UD8XwNjOeYdCMOs/3idM7JPkHUAm0kCEA5DEv6jPDYoHeyrAthhfbAuv579Ly0YXvJAXQEllTRtH6/s/9E+XA2xZ5z9jGywlZCQVQONeIygqQxxAa7BN2p/tAMBgbuf6HPgnQBkjPOG1/yzA5/T+JkI2AkDipX/iNqP3v57AeqoknA1AiR6JIe6xEsDYRmpcM1IEQOX2to4pFRfAPomyd8osD8C+ZwZvt7MDQKOD5K1JzxBA1syq4ARYE0AJsfEkgz4owH68ai6Z0BnAYTIumwVPIEA+azslSAsZwKvJOGHKQvi/LdjUiSUxGUCZ1UiWCmcIQJQoZbdxhgLAcmD2mni9FsC9Hf2FiAsdQDNWILF6WiHAMI/s81dqHsDe65SiF80iQFgk2uXYeBjAvISKMmNK9L9ss3eDybb1P3qQwe3MkwZALk2vL2jQJcCbIzoZKewWQCUjtucHBeC/3DCDURVe+j+zSZU+xD4bQIM61dnvbt+/uoAUlp2TCMCpwI73PmYXQGVav4CAkxHAkGeYtWa4CUCUnmKmncUSQLRktUTefgfAo7N5MhhwHkB3L9Ku424PwBpP0eV0LAZAcQ9P/Kd38T+kWZuVAUsiQMFqKKwYEinAjYRAhYoBCUDQYcPfmQ8IwFSoO4a1fR1AfCsH9SWIAMBSd3izp1zwPxDOo/OSXbw//i4eeAlJFMC5/IsEoegVQC4mEJcXJA5ADvItTVW0EsAY/08KlCkDwH2vLvQQUBDA1umniTPcDEAmNpUd49QlwJ0gGbvwjQPASCbvZRwAJEAfgR75yDHvP/Mm18jgnSVAPk46Pj++HsDIJzx8B6EIQGoUmHJSrxZATAyUYWYGJcC7BICnlZwkwLH+T7SyKRRANRAwAuarJUA4CwyAtc8RQLi2FwKuei7AQV29XxVeDkDIaNy6N5zbvyRe73UKTCHAqYKjAdWrGECNO2SIT3knQLGbbjwCfjZADd/ivlByFMBTbmAT3+zQvzwB2SpZ4tI/DuAiV3hJE0A/4eU8fSkXQFyPp+fuIBDAOvQTb9UnDMB9Rd3K9t4RwEWbjs3S/ydAfUoxtRk0BcDM2UxdR74hwO6hG+DgbypAb5MgIWmxIcBvQiHQ5YwvwOjT5sP+aBTAszS7bXlU7r8u24Z/uPUTwMy8HMNSBC9Azvi3TmnsGMBEtAxhyI70PxeRNMN4khbAxQxyYx9TEEBAl2vVDqEqQNuhRCdVbx1A1JA0pa0oDEB3KuPaq+gbwFWd3JrY+BNABmS04pLj/T8PVuX0JZgdwMhvS2qBph3ATPn7NDhA/z+XIBcJ0JwwwJZ6OifXmei/KsMIbIIkEEAXU0n+ft0kQBM2iynFVQxAmD3TQ3nzF0AJvVOk9moVwF71cX7KsjHAeL0e4tEeFUDg0QebJeokwPCuJs5SEPi/ZObyyPW/LsD1+SI2N48eQLuCzsUvagLAXTm96EPQN0A5K8RPWEf5P9hDdHtWBSrAhvKpyHNZKsCOT/Yo7msaQGpaYQFZHDXAhLF/gyz9IMDBhjAszbP8P5p+YzI+IyXAsoTb5d1uAMDd9dxK0CwlwA6lKy1rpi7AOuFbWGcLI8CmIlkoVNkTQMdpiiYzEyfAMIxBAyXkDMAdzFReRqwcwHwl9v9GWyjAQZH+eurHEMDoZgtat6gpQLljJ81sEPA/s9QAW3tjOsAzepBFbWIJwKcWm2U8ahtANa3lxZW1EMA2yoDpp9MRQFM/w4uv5fs/8nXHwH4aCUB8TP2PRH8eQK15EIpcWSbA1YQ29HVTHkDSdRDqg3PZP6jfdqsM3/w/rJS+VgPnGsAP2LrJLno0wNc4TUkmVSrASxMn1XtKIUA67YMl5CURQPFLwVNjKzNApzymKzjBIkBtNuXuslAiwKrX5HgE5AvAFne6glpwIUAsBxVgnbk7wN/HLA7O7yvAYNC3YH9WCkCtpQgDEXArwGc+sKvLXAhATk4zkR86D0Dku8AAnIA2wIES1VjqwiJAwCDtX2yMJ0AY88V59lwywFNDw0IdGhBAeLWi5/2LLECXnIrPw1MiQCe5QNmtTzHAam0Tt2jnGMAaaHwEvtwxwOsNBFhCavo/XmnVQGS/IEA2fWkjFyAkwJOOeVhX1izAvI9HhZv9HcBSjC3i9BUiwCXb/AIx3DHAFQ+J9kbBI0BIRbcfFEv+v9oI8RYRzR7A1RG3v0NfFkCPJmuuwlMNwJ923acz7wJA3ZGw0FeRNMA4TwVlk0kHQKIVoeks6CNAdVK80W9BA8D7wrKWsUweQAWAZk5HsPC/fGihuKOfG0DB7ZTAvAIXwKJY2MDibStAEO6a3zQ1I8CjmAbWnjK5P2ZZX4XVPtK/08ISgfn9CcBox58uJQ3bP+fSZEypxSTAYHBEpI5KKcA+C/1WtIoywANhIpsKWeA/TEct146JJ0CaCn1CvhkUwD5D6ipCygRAu8OfhEXWIEDVozHJe0IqQBqeMpJ9SiHAlKZGvENbG8Dbem3t6R4WQPnU0dG89SLAfS9TAy3kEMD353mKSzgtQNk6CrYhlB5AMpRQ1TZRFEDAH4tYoykpwFSu7fUJwyBAVp7nJdDK3z+Pfx31e+cKwJTcH0f+pRnAEDdilwZ7AcD5GtR+GMwXwCqi7Plb+P6/kszedqudIMCAD9swkBU1wDpV29/3MCvAWuCdwi2OMcA+8hpfUpQkQOGEbAQoRCHAJMtfXDGiL8D+et6iZrgPwPHug2y6BClAMR2uGXktGUChh0GTZ1wwwPp+yb3OLTBAzN4PuEaEH8Be4UJqNbYJwCM2wBhCjCHAFQLf/JUAGcBC+aP4cfohwPY2zE3X6SbAGmrENsSZJkDie+2iYHgKwGaBxznkcxhApJnzKKin4D9FirSm2WUKQL11oqKTJDdAZXwsCy53+b9XV/ddumQrwG+lGcClDgVA19nLUmjN9r/ftepjLegxQJrOpQ4rGhLApVHHW5ucJcDKjBiJoTQbwH5SLRTJ5zRA9DUkw3sjNcCZmbT86d3bP1zFaGSRUTJATHyoEjca37/5gi7gXBY1wChUbfYI3DBAa3jc0RjfKMBdCS5j3YnwP/KUBnUwcyBAjL4ZHM8+6L9tlXHplKoJwIxmTwY6fzjAO3Gj7m92H0Brhabqy14hwN+eSefDuvM/6T1rPCs1H8BWJGGDD7o4QEr1CPdBVB5A/pib4vKrM0C4G1FuepsPQLUS0lChBPO/0bWlIduSH0A80kULSFomwONmUXozWCnAIkOSIf9TNcCm507mhvMlwAI4HwGJXci/u0Wcpk+jLkD82P5M28kwQKj0WvKhJjhAxmMQqEtaJUAJeWnCJ+cQQDD0882alRxAByo4dh9YNsBYyasJ8L0NQF0Z7jwMWRbAe8WrXyrmIED1HzSM5sguwKLv1zlFcSTAvoBh6mwY4D8FQ2IS1gohQAOxq4Jo6hRAjUVkB3fcHMA0ohfBzrEmwD8TtLxFySvAkksJlYrcFMAi9LIOotU2QOe+hloOMBvATr2n35m8I0DAL5VV/HQgQMT9r5FZIy/ABTQLd0OLGsDu4X9amqPIPze8/ANwUitA+D+vipLVGkAJ017I6yknwK7pyA7pjBbAeC2rinLlFkB6Zx2Djq4xwJUE3dII5vM/MzSeVQgdMsD6FdEKvfEAQI56iAtDEiPAO+yh/L8m8b+ZS43Pj9w4wMl1ytMBuTvASoeV27sLIsDeomWyNDwHwMNXHtW0SCLAUavr7Q6WHMCj1a7tlmwiwCBDandYgzHALjAiTLlrH0ArD6vWioYlQKhGppj5nZU/Xuh5QAInBEBqIXqIEVUNQCO23klRkzDAiFEGE6IO2z/BXA5C4SU6QCHdMfeuEClA4eOW9OHeMMDPnpMi75YbwLfqHPvqLhlA7HP/QDmCDEBDld08v/f7P1yjtNL4yhpA3uykrouWOMAabDzksAkuwPmXq+AjbSzAmfQ3KhwxLcA+jS2X3qflP925PuJivB1ALPv2pCFT5r/tmM01cakdQGAWQRfYEyjAyzSWxztXMMCasZAr2JXcv9KqKuWeECJAUycBMbBAIcCekaH2XVohQKZjDvFsrf8/GSnTm7z7EsCUCM01fKsmQLIFFUlJdBLAmt+Bk5SMHsBjJa3x2WjOP47QJv8alhLAxtdFnnecMkA05aEiRBYgQH5LgRVifhLA0/E0pYvBFEDKTlfmvBXwv8Cf3pUPwPS/n59vYfhEGUDYyZFW8+UAQDm68xqz6ytAy380+WZKJECB9e3fQgcnwONnyfRywyHActOUsDUW5j/x+n8Z+k4pwHvJWNQvfjXAH2jjJt3w47+XiwAXWjMEQPkjbYh1FRBADQ8ALpljIUC72VRvPD4uwKVeBIOMbQRARkmvK0ZqLEBsDcr48EoUwGWL7BPoJilAF8D/ioI0JMCeGNZxkrMsQJCEBfrDTSlA/IJYvlt4H8BCawhsH8YywHnrXhB1FTPAagdb8kZzIECmZG4nfvUrwOkmujWVEcO/Y+84AhfmLMBZ+fFkL2b+PxCxNEoyuhjAf0rpiVsrNsBpu5LGcyAYwD199gyOYi1AUjXvhiIoLkBQs6XzXiyqP/KTnfspGy/AcD31r+4MMkCwoCiLexcAwE1gQDnYrBLA2JquZV5MMMBnPXmAShwVQNIgmveEtShAMP+hergAHEDkeJZffv0fwDopKNry5THADTihKjnaJsB4kDQfmS40wJsIwBidOwLAbp9OC40mFkCfcd3UmfMVQCLC8EHySwdARpQGKsikIUBubPf/mk4YQBRLrh4mciTAKc34pcn3GsBiaEGM+XowQO+9dm0KEw3Am7B5dL5gHsDoS9h1+TsCwMK6axNZcD3AuWs689PzG8DWfkfraKwjQAba4Dd4sCRAiKEqWKrKHMBAsUHBuGoPwG2h/mdbaDfA3mvYN0/W5z/CuqwmApcrQHoHrBZHni5ASojgh04xJMBsyULzJpPQvyDsGz5hMQjAxQNb51EqJkD9b8UvatsWwEe4TvnRyypAaYJI3e03AECA5J2bWJYPwPnB8/erNBRAsPxZTTUqIkCXQ7So/j8LwK+hdSztzC7AeLiO6HkqA8Dl6qkNoogzQNZ8Z7H0txZApK4sMH6iDcBAA5OD+zsfQCmrCh2khzHAwRjySqmBHsCoV17572MqwNtLSpCd+TBAvNqhLCFXGkCAYALDsXwtwOIEe4vBAR5AYBmsJR/9DkDOFlrVTuMVQCGQS1y9Gj/Aj4l6VYxtMcBa77tBXtQzwOSKgg/v3QLAxkYAw8pXJ8CUpA2Z9/QywDpIyuvoBizAyZT8Mf7uJcDZaWxxmT0GwHw1jbqzqCNAHls6GUaXMUDTrFoEry84QOJzfIK25BLAa5DFur5JEsAU5JqJgVgYwIoLvsDcty7A/esHIudvOEDhc5qqSOvwvyGtLb66NSvAgxrXLTsHNsAESnNUKMo/wCUVD0D4czJAhtMjtd8q5L/oDO2CvRA0QG3aPWWizCzAkqpNkYWDIkCmZ26fSZQpwJUVNrIuTzXAMZ/jcu0GJcBZEeu0QCcFQIjDn824bSLAy0rKjdbWEcAEJMSsLRQiQH/WzgyapDFAv6GkzsGjK8Ade22Ev9QtQOwg3ftQ+TBAmohZ/4sMB8Ai5CO3rpksQNil46TeOCxAdupOp0r9MkA/RqQrdNECQOg+WXsWAjVAspz76DpO5D+cnI88aTIEwAUboYPnnipAP8gV/oQLKsBoC6Un164jQClD39r8ZxrAk/hVy90SFMD89wRK2UggQGRDQhl29CfAJQus5MlmLEBNriz++MshQCnjgxTjGxlABbqDGzm8P0At5oZ2b5U7QKtNgW+drhxAN2gVpE19KUDWmq/tli0mwKH5sVwuYCtAthlAzYfuG0D+GMJfd1/3vyeuZV6/tCZA3AKnV16lMMDlvme7CCgawMofrUjUxSZAzqSP0QFPKcDVyXoJ7Po7wHhxMPMj8BrAP6EI0jF927+a/yF35pENQDR8ToPH4xHAKzDJTeU5MUD7hqlODMEbwPjH8aTAgRFA6VRseNuIMsBfAEkta5A1QPgFs8/voTLAuwqDUqAnF8DEawrSjpgfwGCKhoCVuso/7OoQx9UB0L9Qmewy9xQTQH8rS0hDQ+G/nj/5PkfsE0Al7wN++ychQAg3uXMLdTPALvMISwhuD0DYd6GNODPQP0P3NocW5yBA5+vYiCssHMD8Yfs9478ywCRp1bDK/glAV/zaC96HJ0DuzI1a6YUIQBK3Ax8CaTrA2pKjEZ/BKUDJT/cm+Q41QPZsmnpfbvy/qqqwBAExPMDa9ESkqHL9P1kO1M8RYv+/WQf1LRD3LUCSxbaXwX74vxaw7eLrfA7A2nEm5J63G8A9d8eBIuoBQGMP+CtgfyfAWpwR3eE+IMB4Li/KY6I4QH5BESOICi1Aq40LZgS8KEBv5gqCKHkaQIWtvJFbhjjAbmGf35oXJ8BHqigJ4/0sQDBt5FN9KSXAe1KBzKAr+7899KKb0PImwMSQfzTKuPU/5QK5Ra83MEDDhqZtIhsvQATFaCILF/U/yPdB/GlJ8D8Pq6bMQDXqP7HJCR9+YjNA2JtP3xjpKEA0lXf7UbIpQOIGmmQfoynACNl5Wk7WFMD7fiHDtQ4cQG4SERa3ZjfAxqS720f5KMCeLASBVrYsQBpNnciM1QtAP0tTMIFzIMBzBtpUScYPQIdxGcN8MzfAQQWaWLerEMAHCaWaOYwvwGIfnaUceDJAGKc+D3eZLEAFJds6QtE2wLmKvsuuaTBAW77ca3zIIMB/S6Aj7QotQJvVkq6OHybAC2L74bPBD8DaaXYw4RgxwAvnr0NCTDFAOvJXj6C1MECJhC0LoGUgQOy/MMAUgy/AiGfMuMzVAsCk6h0hFvgSwEHTZHuXVzBACydGVtuoMcAJtnybjxwyQIkLCHz+pR/AzTOQhoJNMcAsiyHesuIbQMCbEF1wST3A0WkcRSR6EcDBEuhszakqwCqgLlfsfgxAJZwMHWQ+NsBiuk7DYI8yQNJqq6HJLDNA/KVJUmFQGkBMweH5B5gzwJJYRgVMgfe/ZYC6iuCVF0BAIAqpll01wLmlQzs5ATXAPQzTS3anI0CNZiEAg0M/QHhCjzss7CzA+oRhZ93rKcDUvbS0NhQ0wAf0l5yP9wtAuLfM2UYuLsAFWx5JBD0RQB9vPAqKvQLAGR286PbyMEDrA60VjTwwQD13q45mVh9Ai2vKUSIsH8CUCOaFURstwM9QkH1ZcjBA+P0nAshiBsDPYH/gO2YtQJDddkfqSOY/6wQo+mS9I8Da8tqkzPQmwARp6bUxayZAVwi0GriNMEBEsojM2F7mPya4+9OUK+w/ovksN9S5KsDYvG69ZvcmQIjhyTqmuOM/s4PQ5PfLNcCAoYK4UHXovwxhaZhZZQzAhPrwGKNbMMCp10H2m3nkPyeAKvNrryZA6FYQnpH/HkDYVKwQQ7ApQDy+Tdk3pi7A5kq43tRrKcDxZeSzFnMywOPZbjPq/iLAsNiwVisXEkBovn6oGh0fwC35Hnf4dAjA5WfP6oIZKkBvv2cuvGwSQGMiEXnFGBNA+vecFR3bMMCt80biRiggQCwbmexHZgfAcIdkpSGcFMAAn5e/A6k1QL0Rjo49CClA8qUUZu/zMsBJSUhDcYn5PxmwTRq/bRvAoBSIoxXlBsAHaNJwxrwZwMesFZ+PBjPAM5xUgnff9D/97ib3svwpQC/JdG9rsxxA3wm8RFVKF8CjWkSsHBglwHKdvS1jM9I/GKay8qQWNEA4UBAkdvMyQPB+DPCMCTDAQmdAI5NkNUA1Zh7/3JsiQOax6PhtZNY/hy0Xno69LUBph8qgfbw2QHCR/iDCDCnAPt5Y2Jl7J8AFT/u2/v0FQOT97alZ7C3AzRKq9xHvMMCF50DuuLcsQNKDHvaDcyFAmF+Ukp3hMsAFyRztid4rQNIpV7n6vBRAxcz+3n5oN8BfsgkedA9AwOwCdshzQQpAywJO1JsgI0CyHtY1kRoXwMkCNFd2YiNAoXu6lj/6HcAeUucg5zgwQHw9xmh31xNA5IE0BI7kD8Bf1cOMMpkeQMWUzCXKiBzABqwagDZb4r+TnqSqjcn3v5RIYv27CifAxfFiwmcgIsAR3nysGAIrQNFVb5sLaQFAxA5tmPMGGsCZ7TUkNJgnwA1bcOq61wRA1a+T6K9T6z+fuaiOrCUYwMIqxNvKSBDAAIeY4WInJ0BuZfywz1r8v2IbTBnzewNA/rnQ75vlMcDXrlrqbxchQHqmtueySiNAp0zrQYHn+7+Gfs3Rs9sKwA2dqhR0gypAOozQrY4hKsCYdLkbSPIAwG4zcGLTGyvAUXj9JcVgKUDmwGGxTMIiQMME2zLxoCrAg+9UJKGHM8BjikXWgH0tQE+46KUDpCJADBsFcz/ABcBWW6KlXYUzQMz8Tay9Di5AvIfmP8jLEkDwJ/INh9ojQHhhaAQknhdAsQNxZeEWJkBGlrIpNNooQFC00W7dUSJAdG0rN78UM0DdILgfdL4vQGZ5XQgUNSRAyPwd3eMuDkDWmfZNz1E2wLZTmdEyFybA7EmFIrQdOcBRKPFWwQs2QDH4RQc9kB3ANXa3bWG/IkCckfG+8K4xQBeAu/PaUixA4Bu0sodYDsBcDNT6/kfwv+PHRHLWyDRAjV65i8lFLcDwZ3mTpqMqQFUfgq5l0yjApWQQT3p5L0CBHRa+grMUQPy93PK5GKC/H96lJY2kAcCF6N+aGiwZQAav5QoqXyNALEzuDUkGGkAIndl8RC0rQBwWXrgrqx5AeorQ+rVyN8DHa9rNH2VBQAANRAxUlSBAKULCv4rpMUCxDigSFu82wElSefusTBNAVG2rpKGwI8C+Cuvmg0EMQIARfSbGEuA/OQCcCrZZKEB4d7+6JHg9QKQP0w6Tpw5AKm1xLpNHNcD4Gr8gREIBQDC0H0bn2OE/HrzsEAovNcD/i6kCGh4nwLt0Cr1fOyVAupfIxG5DFEBiOT8jsC8pwDe3JJOCQwXA8PEXLvFPyz+i+dLC+Ck6wN5aCLojWyRACmWqrGDsJkD73/ZpVikjQPCSRhQdqDFAJDc/VB3FJ0DcmjgyVSQsQHA67hb5Yi5AOn4IWMkaMsAKYnCQNbsxQNRstzj73vE/JA2V8At7K8DjV3TSkxUcQEu5oRROJBPAY4eVJwIsLMAh7lyIwwgpwDK8DUFXvDXAW9ysH2H3MkByn+EvATIVwGUA4XEyIDjAdhuu96QMJcB/xP0iuhYvwP1vOcuNTCBAh4JQnhpfEcAb2/mX9nAzwNsCE3FPPBfAp7EGeA/0IUAwfDCgjHAwQMTtNLrNvxbARD5rNdWqMcCzjM1om2ERQIXbUSBi/i7A4nRAARGSGMD4tj9HVUfwP1TlQIEzQTBAOdV52odvJsCNF4NqdJsxwJSVDQb93Q3AZ0M6ZVr/LEAOV10qO00wwH/FHdIkoTJAVS1bnKnZMkAktzPbzYErQEBdVgYsoxTAXgWQgvK1F8CZAxrFEMYiwFRUM8WIPzNAjigtgF5DLsBCdyugRuYXwAA0tLYNIyHAaJkPczVBMEDAf1sitegVQH2P6Y+k4/o/gN+jQ9nyFkBBGQakhWoiwGnqf+ehtxrAnFo3EULdKEBhGqalqmIuQA3Kac50GwbAyR4iKNAGJkDIZdJftYMTQBF5XJeJiSvAZqTKUohdMMDDEVuX4MggwPqtgyyLGCfAOym8zWByQcAdn54z+9YjwK45iS5ROizAvjv2ejlyEUAhkBrxIFG2P14AQzPaZCRAc4yvPDtFIsC4Ue0bThAgwIJnE9ZteipApeor53T1IsB29LxPunz0v6TMPuO55CvATiX9QpHkLUDEArTqdyEwwAfg+HgnoyNAB/hWJAwqB0CAi5dVt3YtwJ03jFCn2izAJREp1Kk0MUDwx9STFhsXQK7RB/h3mAZA9I91GLyGFEDa12axMKYywOsRz1P7eTJALG/CJQ2u3D85d38Q4sYLQGizka595SJA9Gld0BptGUDAsyNMik0cwAGh1DDY2irApBmCcrTgJkAx/BJt9zslQOn/LQgCESLA1SGZqNRlMkDtxpB0xtUtwER06KV/CChAgxknShhIL8BlGc8w/eEyQOyVXe3evC3A92u2dozCHsA2rMkrfpH7PzrTiOrzhdA/bLZa3MJ5HUCLL/2nAN4kQHieVdvrGSxAfQjYKFnDIcAy7oRXKKcfwE7Lz/CwqvI/GJTUmLfDMsAkQ8ZymnMMQOC5tU9QoSvAjHu9G5vHKMBUwmZJESsbwHkt/8IYxC5AMOnaieNTCMBoqPvene4fwOTB3/qlPDNA7Ro653VpDkDFs3wxTZk7wCS42o6NVSVA85PJu2wUJcCFso5fygIkwI5QjkI5QSHAbU4TR0HGM0BlCEYzCjQ2wO3JK17z+zDALKesrETIJMCaduTkILMoQBdFcugifvW/5x+7n8D0J0C8GjW7mcAwQIIgXw9LcxXAcI2wv11IJsDZ3Ywf5n8kwMvEFBI/7RlAgPQruBexIsD+qBzIKZcnQFKVf0YhzS7AQ7/A1xD+KEBSP8dy4WsvQCXT6322CxZA+wSvDCS3EcDGXOZI+0M3wMMYnZHfNzRABwXWFDXZJEDwohI5mnswwLYtB6qrOB9A8f9SuMinAMDl7gtbz7A0wCQKTDI4fiVAHr7qwCTfLsAh86kxWQkpQA1kOQ27mjRAvQgTrXvEF0AS7xR2+ZMIQEJc0qFnKA3A/KuAFFo/McDVL8hRg9MvwE/LXZZChjdAEanq+tBJJUDnJZlrlWImwGEf15FVZjXAgRSNHwV4LkDoH+EgkRMQQDEXLBmTjs+/pcXC3sXgE0B7Xuy7UB00wJUo2tRE7PQ/KmgI84ofFMDqUNetcKclQLz+jYNSdQnAJph23+t/JMA9RHQYhb7JP64xNUFktRDAmP+TZDxSJ0BX+s64dFEsQGKctDt5IyHA+48Ctee+IcCxKZb12dUfQLLogsm/MjbAPgBlS0CxJUA5D92CDNwkwCDvY/LgITRAJtPJlqvDMkDBt55QvA4NwG24XdnZoRrAAE0gRfnGIUCOIOsbhG/6P+1DlmQMRx7A3cUlADGdJUC6qHvT9YciwJ+OKANveCDAYLaVMcatH8BAj2fqkDEkwKSkmzx1jTZA2h/ZwOgZJMB8YB81fDc2QC12C+gzmB7AXr4mYpW5McB9eN3b0uofwOnIAhSEv+G/5slJFSzwHsCRcWPKCpgqQM2yt2XKHjJAcCAuYedXIEAQOiVZ4kwwwGwiljr67SLACc1Woz+QEkCmlSKXf5shQCpQJABCbAlAzCYS3DySAEDR7hWZADHsv4wBW+gNLzVASMP8h7oUNMCK4tvWFqwVwFUUlUrufjNAZjHOvaJ/MMB43bboSFkwQKs0BVYoJyXAbtEBEQZMAcBAj/t7wXEWwKiO4YKpZyxAPDLlnWLtNUCaC17+RcHxP6NwQoXC+jDAt+mI+fEsMkBD46u3wLgqQNSHBqzthvi/VgNytjsAKEAQHpB9E90jwCBtIG4AijDAAVDnaR1R8T9OxRuS8ZESwG5iZmxjoiRAOlvuYeOeH8D6rl39wMAZwN6ej3jJ2gTAMEi5UcYWHUCnV/H/9WcwwBCKg43cQNY/9DYjLkQ6MUCrZnKadR8qQAFxcxE/QCzArIX/8i0yJ0ARDsq1anwfQAiKoD2/ly1A1b33BXyFM0Cq4TTs+SwuQIR/ljmoyyfAR4kfriRwAsBugFv1u/ADwO/L5ZsJeDzAOf9GhfVVI0C7DFsCWuwnQL2Djb6tSBRA6K1NlIHzLcCnLtWAEgn9v6jQi7/6vSfAJNnBAABmNMAz1jaFLCX5P3oeWbtACzPAo760ZX0tKEC9vGG2vE8WwLwY20+wBgXA9LKCdzo+C0AA14VlWpMGQCdmtbmtnTbAKeFK9zAsMkDlS32Uy1IYQBd02jRoJSDA6+5oEO681z+5dPHHKTM0wDkA2L6/pTvA0m/1RNJPMMD1FHuwFEwlQPhnJdBhECjAtju/jAsF9b+jRzGANqEqQEfhFAxlEiJAOGGDjd0A8T+rcs5Xi5cgQPvQym4ArSTAu47BoXD2I0Du/uiZztIzwPHkB5cZeR1AKutz/qAb/j/4Zwj1XHMnwBdJdU4VjxLA3wrM7qoNP8C+w0OS9gEmwAJZBRBIthxAW2bXWSm5McAVh5JV3XA4wBmhzigkADHAr90wchOIFUDeHr61N54kwLsXFX4doypAyre5+qFNDEAKFVOnRwc1wDrKFKFK8iJA39NXUzXFJsATopIbrJ0nQJL1gz4dyjBAXQ5k4xdfMEA4e9G44eAiQEhAY+XCDu6/YtfBCs+4MMBeGuuO4k8uwKBRUJNc0yTAQUesvDVDAEAl93083ToLQNaXWjR32hvAdxsiB3O1JkAMAc84+iv4vyO0np/blTJA0AcluL7BLsAr1PMyWoMqwDd6rfrV6CXAnzR0975hFkCe/9QFPzQZQFTDDTuGPjZAh78BZPRYLECUw4jv6pU7wITSzqOJPC3AktW0T0pXF8D9O1TTL1kbQFBmX++LnRDA5kYL7KMFMUC1xyYIUifgv5/jd0C3lxNAYnuvLO4vN0C8iKpwGxwnQKMEklny9TFAybCgevarM0A6mpQ5XL4fwHzOMixKkyZAd3ycXQmQMMBVQTB1Ja4eQFaluyFHWTZANbPElHbnLsDRQM33jbYfwBbfq1T1ig/Ad/UjBFj1EUCxNSR6H3sqQNLCTTHKQR/A4aSHszXPB8ASfdU1OfMewPpehEDhzyTADLxA9KOXFkBbTwqsPHcpwLeO2AFbNjLAFnSVQnyfFUD8S05F5OkFQNFILeFpgzfAEDK4nEmeNECZeAHyVs8AwAHoCkNedxzATQh/WP8f+T9JJrlv0/chQKJhD7udmirAk7e9WupdG8BaQ8RSCzAwwPJ0ES61EkDAAQ9x6KW2O8BLnqcw1Ps0wCF6FV7lpxNAoLRmxA0iE0BgWPJqsgsUwIVV5aNRFgNAa0lALbK/NECnVdEPkugvQJAGi6BEoD3A+UjcsX8yNcAIS33+5qEqQLYk9E94zB1AKrXR/hBlEMBPOakGmcgjQI115d7y0jLAYpRpY5vWI8BKjD8vWasgQDrRJj8knQpA5rvltQ8KMEDXDXFFmgQ2QDUh5Tv4Vek/FDYq3jSdL0C6CXm6NNcbQEuD1YBBKe6/i8Fr6g2zAMCvJjycb6YbQOnJ3/JHziVA1oz/pybsKEB9nxqyMI7zP9YeT1cBSwZAyI4laNkAIsAsQHGp1CAUwMcUPkPWZAVANNCJHexDMcCLzRsf9Hr/v+51NwBOgeI/H3KgJieP9D8LhnC8oa4aQBp57AiAgxrAzo8z9ufxKsB+3BQNbSkUwAFYTRxZCiXA5VpAEkZtNMDZQIiQ4EsUwD+X5dt18xLA03KkgE+qAEAfDd9Waw83wGXnzvV7UDhApcE1F9Vf+j8XRtOCNbs/wH+WLB20NRLAaBOiCZwCFkBF2EnOb3ccwHUkbZEtHjFAlmKpGgCBGUA43OIpycj6v9z32Uwh0zNAlPuedIx2IkBTwS81GVEzwH1IP27SzyZA3H2jxlArKcDkDUCM/jEawPlLNBVquBNAmTKSeYArIsB2wIboH70SQJaBkxjSHy9AzhIgQYbYNEDvkPyXjJInwGbIidL5kidAGaz3ejkbJMDmmw8H5pMxQIQtb6h0iCdALDFF9ZZsLkA4R8gMVQoVwD5rfL2BlTVAOtspF+HQ5z9Ui6OLNXQYwBzCoY9JNCdAoL+cUJTxCsAuRuaKYTMBQL4LqQxKrhhAl0wBR7adCkBOhcm5wG00wJTz/5TgkxLAd6exGbGGMUDmemucpIwSQDOb54faiwTAQDaoQEbWA0AHxQOJ02w2wMCAysFOxyRAusM2J4s4IEDDhGk2MHEHwCcECHAaFinAKMtJeKubLsBTokHROlcSQE1DRWyDMyPABDgxIWIPHEC9t4M3N8IpQHv5Xv+1DCJApUw2vHk9N8DqDNYIaL03wIk11x2fvSDAANWs39MIEkDJDyoyJgIpQMkAI5t9RhhAmXPCMlxdBsDoewt1bcYowP6JJzFRVxLAEMNlWStnLMDSVyyYiugkQMQWYzpDgA5AN0LXd+yBI0A6ZMPlnUozwHMbyn7mWydA8vKberwENMDDZcDHYuUWQB7BawLfVQrAKXnjg0Q0LUAdFXGyVwAYQHIDKXjBMyxAr43YtgjEIUBgr1qMHOIiwI5tj+qi6zdAkeY2CzHzIsCmpHD0KokYwO3G2kLexDDAY9rVgdi7KcDqHSOC4GwqwHzbi5/W8xHAnyOoKu5QMcDBqEuPdushQKd+zd6jfPK/Nu+OeQlXJ8AzQ5EyymD+v/5FUGmcYyjAECkzxba6McCsmqYyaHceQMndntn5rybA53gvdlkrGUCJwnzxARgWwLAJgwqz/xDAA6XyhTWCE0DzpzS1H335P8i8GIUTYDTAEqH1XnIeF8Dv9yY8pigkwENBxTD+rzhAmtUM5qwVIEAZBmFQdVgiQCLSMjEgNibA6DMVnZNv8z/rSwd55bMmwLDFlZG02ALAOgVJpp0GI8AT8b3MG+c1wJdzMUj9mSJAgToTS5BC5D/mkzBU2qUpwEBwhSBqqg3Ac7nIFghyFsBzfv4ItMEcQMy3nRND6zNAvJR0XWRnMcAtpnvv8k0cQAtMSJbyyvC/n4dvZq47LMCsxu5Q5TMiwP9h0pTfFzhAz/yvrXxdE0AM0UYbruMkQN/EYDkwrAdA+u7Qm9lUNcBpeoUowUkpwIh1QBUi1hXA6ZosoxbFL8Bp0u3ol5wSQG9PJBeimxzA/ByQELr0NcD/M7FpB6McwADQL5PdhQDAtZ5dZjwtOECOlaFPa6wtwFE9KTf1xCNAKC49foQBJcDVfhovacgwQMeon6VxXyHAsZIDNeLYIUB2PImp5ggVwD1o8QfhSizAJplHTJRtMEBEZQp6D4g3wCpGEKoydxZAsHqxGWxcPsAydi51ZzQOQIqNm/KJPylANgEQKlVGJUAfUB6r/TYxwPIg1hPZIck/9Q7iOVxwMcDPErQUB2QbwDpU9HTszw1AumRIt6f6A0D3970xZ4U4wDJGZX/VdDPACF/xSydWLUCw269KfjUXwLgHC87jijRAWg4Xqm96M8AmkswgxJgwwC+i9iWsGQrAty58AgXnJ8C5ZVsqwbcGQOhJquVBnQjAStj8ksLk4r9cB0SdQ4spwKiU/XeYgy/Anf0AVufEMsD14JnCZyYSwEPYsFLIYiXA159+pXDXMsAVR48tHTciwAYwU+x59DPAG6rQ32ffI0C2Qh7UE7wSwHeimyxq6RvA9l/owC+hJMAd9YgANw8MQBuxv/YQqjTA3L3vZAP4M8DpVxHkf94ZwG5wMenYHxdAxuWyca8SFsAQ3MaAf/kMwJW464LhpDDAvj2UZJyTGMDaNi9WKN7cP367Zx04cBXA//qNYg2nC8Br0nRJd1E+wDhN1LNhoC7A/FRRcbAQA8AvtfDJclUsQLLNp1LkXS1ASivxFDyMMMDJRIcgUn4SwBxQwFrGCDBAprnJHTHvxr89XaS+5d8nQB8xEzlpryBA3gFl2o+YBsB1/LqfflsswLEU2Fg4ZfW/0311cbiQMUBIHr3acwD8v8b3YjrMnzfAHwx2dyolMcBOqfnq9ixBwMiWcJxZuA3AcMiPehWbK8Ah2Mr3BUnzP7FpiumU3y7Ah660r1WTNMDJtqDtp4XBP+UJ/bP1MzhArLGgj31Y+r/tIyWjq0bpv3fnVFIVqjDA9yLqVdHBC8DhsScCEQcLwGNJu7p5rANAOfJ8QYVeAEBAIz4MvrQlwKEW5PK4JRRAD/a8Ds9lKkD3JsarDco2QGCR66Ebsy7APavsCtVIM8DrMFMPzCUtQMfdje/31B1A/IeyaD8jOcDkqkGuZKeYv2e4NaAJgvG/mwGeZd6WLcCKzs8zeZ3XPxuyocFUGRFAbGu2B16j+D/JCK530P4iQKQxwTF7xx5ApRDdkxkvE8AhxjwAAMgSwDH5qWS1dTZAv1E/lyBELMCRtsglPP0awKfmfzxo9xNAf+71ZnSNPUAPueGFF6YIwLQtyXaDADNAyX3SrzW9NsB2y1n4qIwcwNCTNmQxFw3A656HuFWe47+4Vmfd+j0YwC8aIpo3sTFAF3kPeYTuN0CxobzkK2s3wPH0jmwbkhtAkUmEHjAzKkDCdVBHLQMMQFWB94PdHSbAak1Zoh4TNcD7FqDWS6gsQDDBNU9j+xbAKrFI1kkGIkAsWYdhIOEJwIOfgeJhWCPAXAFAK9qnM8ATi4swsXcZQJ3PnAXGriNAgXC8TbZsJsDRNedc81svQHsJua/3LidAJGC++vJjEMABxRBkVN8GQEDMy1KPsQrA+cfYWPbj5r+9CobkaUkowNGU1Olx9v+/w9ZJRNsCMkAK8ilcs3woQGAaE1W8aaw/jQYtY46uJEA7b7oymhsVwFpGzeR+/jFAogctyr/4GsCDP7sFPpESwPdKMTmf5Mg/OS7MiIrNJkBGZcqYkPIPQKxVIfTXPSLAWMVd59M1MsASevErzywnQCG3cc10vANAIoot8JpuMsBNG/OzGp81QOLoJfDvXBfA3Rzs6fA/GMD1RFMfsKEZQPwF3OMoWyBA7LcqKgjcGEAS0bdxzjAlQPPENqfSeB5AsTs0ntdjO0ARpcCeheYXQJV5Hd7evCrAIF6MKF1nEkCG2Rf2HswmQKyCy2zi9BRAJWOKn5B7IsANndfnHT0TwDCaCy2iiR/A0ISobcoGIEDeUO6jouAhwKJfHbZhoTBAWjE0D11tNcAx0qz2A4j0P2erjnTvFw9AfYp4qQ/ONEBpBlpkJZQNQApTr3uT6wLAqhJ89Fit0z+N08eTZq8xwFuvMwZSNhhAH5XVF9pwEEBxXRoNwVEmwEQEkNmH6QPAt4PJrQotM0CbduMEZycxwJkCJ8X/SS7A/eg8uyHZL0CUAHPb9QX6v0yEAmIEtxpASKy5mf4ALUAxCFp/fboxwEw9ki/HyQtAbZPZohuaIMCEukm99BI1QCa5srOR+xzAZjiS7l9nL0Cu9vhFHTIpwN/hRHiFEifAbZz59PsVDsCGIG3fxFm1v3vCK8H/aSTAjpK045RMI8CHXguPOY8mQGRgpsxtJBTAV6KTnuiFEMDniBmwwkYMQEt5DHg/EyXA2hf5u/AUIUAmdse5czU3wA7vKbTOGvM/U8IrpbQtMEC5qTTduj8pwM4jGUKlhyRAHEaZbQqHMcCtgWvpoHsgQI7JgbCPx6c/xk46WkAqMUDlrp4pJGkpwHRYKbxlEf0/JJubh59yNUB1eRlqq8E0QOZ63YVOqCvAGeohYJF4B8CtPi5KvlAIwHpg0kq2PRRAkbbaQqNaKsCcCA+KE5A2QGxpFQMscybAESByOX+79D/vp36NmUoRQNtof6kUnyzATdD0VodzJcB6kgHP724nQGU2HSJcWQHAcDLS1RgjOcDoVp/JEYbQP0ovnWpeKCbAfPKFwMmcHMBvjBaptCL4v4aXu3M8KyXAyUPFIptzOsDf96Jy2NMgwK/qoEE6PjnAeGJ1yvut4r8nDdoNarASQD1p3AAH4BnANft/E3FMGkAuwVMrW8wjQKrAZByJ0TTAlVjQxtqLK8Cqyct9nzkEwFWv5GFiU9C/B6wyqGCeQEB/O4jGNeYGQE4ntWSX7RLAav1X5SkpNMBBm5h1OEUtQEqjKa+gpyVAzYEAPNB69r/DXURM4eMhQMq57aJ+sRPAmCgJ42slNMB2O3zG068swNX4RW80jvO/wY487o2MC0A6psu3e/80wGjOAMp4Rx7AjWhAIoeJLkB17XpNAzEywE5daQ3/WyHAPZMFrSZVDcD4+I+tmhIUwDO+3tSn8iNA1eynaqP8IMC7hwP+uJMzQKCOS/rHiLO/Wdmy15BE9b+nl3+WIbcUQN1PU3tZEfq/X8n0dw/HF8CgF7Rqyt8vwD1O7XI1XipAs3vO8rHiKUDHkUK57BHyP8nQSpYbHxjAnIfz9SE0BUAIh2AxmscjwGPxFyEzdzbAMngg/N5lN8CvziSOuQgmwD/HPijRTRRAamNYWDqNIEB6+EdU2AI0wGvlzpgmEzPAqTHDvk2//j9HEALR4rYiQG/bd1gZvwhAs+mO2ZRsJcCVMrWYZcUsQBwmwu/63C/AXulOvd2g9T81lNpSRy83QOM1OVwdudc/U50OEUF5K8BcgbQ7jRULQEGGHHm4xC9AhPIxXqsw5b+zzcM4RY4ewC7MbeVCNjFAA4tOlLXCEMAlHyvdw9M8QKAr7bbI6wHAzl6cR5n+FECQkJEhjEgvQFnNvaiTUApAlKYG0C3cA0Ce9EYVO/sfQBjWdKH7lCJAfu6kGm1UGsAZ60QQN9UJQLFCPwsdoxfALFhCd6A5IsAiKUvWLB8yQJatBpUVURxAlqwGE7oOOsAKvO44wowKQKbfXWoCmTTAtxGl0S2vNUBs4DfqaL4uwHGHmCWYOytADA9z+PA/6L+CVl5A2BYmQC/4yMDykAvAojzrshT6LsCJPi/RKqM0QMYb74ZvqBJA7PySnNdSK0DOg/se8PwOQF9IGbM9RxvADfdnGgueMkCZQOhjsTIkwM5qoC8oUCnAdUJ1p3U3KkA/+iq/7zcuQKFjlN5fYi1A8RhiKJ4BFsDG/zG3eaAYQDNub92KdDjALcE9bUpZK0APHDSlHP4pwNfEC9E82yvA5B4yoUaIG8Alkr231xAjwIUqbQrnVDXApSR1LNr0AMCa5Hf9IlIJQNWi3jJnGSBA6Y4UhwBuH0Cd5KCDJ0ArQGpmG+OIXBtAstz1bomLEECtHFwFuU0iwCiigELxMjFAUYdX0H4uKcCrrFVSPcABwH4TNLdScizADfjsTKIwMEDa+Kc12dP2v7tamsbelilAZ+k6FUqEGkAPMFxXvtY1wOuSEYnJWCzA4qlDAoEPL8App584nBY2wL5ohUQuuw/AOjuor0oUEsDHKsyYv/rrv2SHRQHTmfi/Jocr46hH0T88i05GFJ0uQGp0asP7thZAnCyCrIwRI0DDa9pNt0ckQEfXPJC7+xTAwQF803gcCUBgvv1eDm8iwGTyNz/Qbh3ALCzN5SbVDcD7h5MbHb0YwAAIwyC6eRDAnm8cqJYqK8AUmpaFY4D5P8Qx1rPISyVAPTMxOWRsL0AQKV4xZUc6QA34EeIRKfC/Rf1kM0c2K8AUYjkRy44aQHnq7hlg9ixAM4Uf+XQTH0DDqFwdRRL2vwWy/B484DdAtWZU2xg4IkCTuML8R2wRwEh4ITSYITBArKAGabWPL0COW17hUxwoQMBmb6ZiLzbAKsVDnhuAN8CYvKMrtzIPQKX9AbDDkALAB6YE1schL8APioq9i08lQEiqS6S8pxPAwiSf8XdS8b+f18LyOdcewAdKTNB1GhHA+wOR15EnK8Des9zL0EE2wKYkufhdBSrAJhrdW+/P9r+JnM/G7vghwIvVYt7RgRDA1yLbZ7i9E8A7TChFqOYnwPlWJyuz1SLAuDURQVEgL0BBfoun+zgkQIOGSE4D3jBANhhmOsYKJ0DqWqrkdyYtQPgwTcENgA7AyXiwStmpI0Bw7PocCHwCQOv7MQ5spCRALHOlOPAMH8DWbNh9nHwowJSy9M9lNi7Am4zkkLnpGMCsw4khFsrTvwHTFtNP+ivAICjuCdRvK8AtjN4jDMUjwITDmq4VNzBAjldQl0XWGcDH54/ij2oswOn3a1nesB5AvSNfmNRlGcAOidgX9G0vQGrbJ3E4wwnAmmCEEkSg8j9PMCVNWAswwIpiHsA3SiFApHweqq3yKEB75KvZlLkwwD5DdeMyBxZAuRD7CXeeMsDxb8A8cyswQKdKCXPb0wXATbvSP3WwAEBsOzB0J+ctQCwCv4qLJTTA0MLRpo2JKEAepT0y8CwbQEENtN1uRCJAg42mcIszHUAbPIrxBPoLQEF6TOsTG/+/k8b8JYw4EUCe/jM6k90zwIVOcP+kTwXANiKnM5g8KkC+reUBYaTkv3qVQWhqK/m/d+O5xuJcNMDpW55zHGUsQIumq2SuNzPAe+EClcgWJkCnAAZwl+AfQMF/8QgpwifA0iX1SGJfLsA4lA3MjIciwFs/Sd7G0yBAyUoifgbn/z/ClzueW30ywKooTwY4ZSZASRm+PjQoKcAurUCu8DclQEwa2Cs82yRATjvpFI6gL8DGFLhRyDcxwLhbIN3J+ibAeXDCwJdPMUC4fmgIp1w0QBdPQGqFwSDARgy6mdcpMMDBlXpSwEYxwLiVdaMMdiHAtESfK5HAHECYUjSLtFwnwEd8/7XqCCjAoWm+KuHt87+1dlqpSWITQJ2DKfk3IirAE7igXfubJ8B5rlM4mI0hQNsnAm3y0hRAcxI+UGoGH8C7ZjmzbvQhwFaEzQNMdgVA/DCmf+WlDMDxZRXORGDmP4IzeL0Y9yNA7UPAN89QAkA2nqLrz/E1wCaG6qgSMSJA8TIZU8KB8T+UUoNfm4jBP5n/eKYAhh7AZDwA8hAU7z9mMhGx728EwDwqNqoi4C5ALJyoQSUcKEByvLH+4mYWQIkclTIM/yrA2iNctfy+BMAxoyVmKCc4wF4ZMapVAzJAL+TxSZQYPcAG09OSqCMqQK/3lwqldRDAYz6Ct2nuPkDWaebVyqEgQFtFDJPti/Q/TL0oHbhFDkDLBHGNcjDvv2uTMpVuBihA2g9Iy15kOEBoBJFrl3D5vw==\",\"dtype\":\"float64\",\"shape\":[2000]},\"y\":{\"__ndarray__\":\"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\",\"dtype\":\"float64\",\"shape\":[2000]}}},\"id\":\"1c7c0a9b-79f3-4eb7-aff3-564ac33def75\",\"type\":\"ColumnDataSource\"},{\"attributes\":{},\"id\":\"6095ea36-486c-4638-9d6e-4ec81065be83\",\"type\":\"ToolEvents\"},{\"attributes\":{\"callback\":null},\"id\":\"ae020ae7-771b-43d3-8d27-2d6ada5213dd\",\"type\":\"DataRange1d\"},{\"attributes\":{},\"id\":\"81a8b977-40e2-43e6-86cd-012b2086033e\",\"type\":\"BasicTicker\"},{\"attributes\":{\"plot\":{\"id\":\"753db811-2c51-4adf-a091-bf435a49cb7d\",\"subtype\":\"Figure\",\"type\":\"Plot\"},\"ticker\":{\"id\":\"81a8b977-40e2-43e6-86cd-012b2086033e\",\"type\":\"BasicTicker\"}},\"id\":\"454d3f5f-be08-4268-a83a-317eed1b140a\",\"type\":\"Grid\"},{\"attributes\":{\"plot\":{\"id\":\"753db811-2c51-4adf-a091-bf435a49cb7d\",\"subtype\":\"Figure\",\"type\":\"Plot\"}},\"id\":\"ef4347fd-9d98-4c7c-9104-58991df2f7c3\",\"type\":\"ResetTool\"},{\"attributes\":{\"formatter\":{\"id\":\"e43d9798-89c3-4caa-85c2-c411a2825cf1\",\"type\":\"BasicTickFormatter\"},\"plot\":{\"id\":\"753db811-2c51-4adf-a091-bf435a49cb7d\",\"subtype\":\"Figure\",\"type\":\"Plot\"},\"ticker\":{\"id\":\"5e87bcec-cc49-42e8-bf80-aacf0a9365d9\",\"type\":\"BasicTicker\"}},\"id\":\"20c6a431-2265-4472-b8fa-41f3317aea00\",\"type\":\"LinearAxis\"},{\"attributes\":{\"fill_alpha\":{\"value\":0.6},\"fill_color\":{\"value\":\"red\"},\"line_alpha\":{\"value\":0.6},\"line_color\":{\"value\":\"#ff9900\"},\"size\":{\"units\":\"screen\",\"value\":5},\"x\":{\"field\":\"x\"},\"y\":{\"field\":\"y\"}},\"id\":\"587da46d-acca-4d5b-99aa-69a1dc621cb4\",\"type\":\"Circle\"},{\"attributes\":{},\"id\":\"5e87bcec-cc49-42e8-bf80-aacf0a9365d9\",\"type\":\"BasicTicker\"},{\"attributes\":{\"dimension\":1,\"plot\":{\"id\":\"753db811-2c51-4adf-a091-bf435a49cb7d\",\"subtype\":\"Figure\",\"type\":\"Plot\"},\"ticker\":{\"id\":\"5e87bcec-cc49-42e8-bf80-aacf0a9365d9\",\"type\":\"BasicTicker\"}},\"id\":\"2e2966a3-da78-446f-9678-6073e5234792\",\"type\":\"Grid\"},{\"attributes\":{\"plot\":{\"id\":\"753db811-2c51-4adf-a091-bf435a49cb7d\",\"subtype\":\"Figure\",\"type\":\"Plot\"}},\"id\":\"6e219d0f-f52e-4a97-b0c8-066d3a31e0ce\",\"type\":\"PanTool\"},{\"attributes\":{\"bottom_units\":\"screen\",\"fill_alpha\":{\"value\":0.5},\"fill_color\":{\"value\":\"lightgrey\"},\"left_units\":\"screen\",\"level\":\"overlay\",\"line_alpha\":{\"value\":1.0},\"line_color\":{\"value\":\"black\"},\"line_dash\":[4,4],\"line_width\":{\"value\":2},\"plot\":null,\"render_mode\":\"css\",\"right_units\":\"screen\",\"top_units\":\"screen\"},\"id\":\"6f141827-054b-4149-b8ee-0b53997922d1\",\"type\":\"BoxAnnotation\"},{\"attributes\":{},\"id\":\"e43d9798-89c3-4caa-85c2-c411a2825cf1\",\"type\":\"BasicTickFormatter\"},{\"attributes\":{\"plot\":{\"id\":\"753db811-2c51-4adf-a091-bf435a49cb7d\",\"subtype\":\"Figure\",\"type\":\"Plot\"}},\"id\":\"61915fed-2df6-4cbb-abcc-709ea991fbf2\",\"type\":\"ResizeTool\"},{\"attributes\":{\"plot\":{\"id\":\"753db811-2c51-4adf-a091-bf435a49cb7d\",\"subtype\":\"Figure\",\"type\":\"Plot\"}},\"id\":\"59561aac-600f-484d-b7dc-bf021f592cfe\",\"type\":\"WheelZoomTool\"},{\"attributes\":{\"overlay\":{\"id\":\"6f141827-054b-4149-b8ee-0b53997922d1\",\"type\":\"BoxAnnotation\"},\"plot\":{\"id\":\"753db811-2c51-4adf-a091-bf435a49cb7d\",\"subtype\":\"Figure\",\"type\":\"Plot\"}},\"id\":\"50fd7587-c6a0-4b34-943e-002234f53811\",\"type\":\"BoxZoomTool\"},{\"attributes\":{\"level\":\"glyph\",\"plot\":{\"id\":\"753db811-2c51-4adf-a091-bf435a49cb7d\",\"subtype\":\"Figure\",\"type\":\"Plot\"},\"source\":{\"id\":\"1c7c0a9b-79f3-4eb7-aff3-564ac33def75\",\"type\":\"ColumnDataSource\"},\"text\":{\"field\":\"word\"},\"text_alpha\":{\"value\":0.6},\"text_color\":{\"value\":\"#111111\"},\"text_font_size\":{\"value\":\"8pt\"},\"x\":{\"field\":\"x\"},\"x_offset\":{\"value\":5},\"y\":{\"field\":\"y\"},\"y_offset\":{\"value\":5}},\"id\":\"25277b45-d0fa-43f2-ba01-ebbc5834389a\",\"type\":\"LabelSet\"},{\"attributes\":{\"fill_alpha\":{\"value\":0.1},\"fill_color\":{\"value\":\"#1f77b4\"},\"line_alpha\":{\"value\":0.1},\"line_color\":{\"value\":\"#1f77b4\"},\"size\":{\"units\":\"screen\",\"value\":5},\"x\":{\"field\":\"x\"},\"y\":{\"field\":\"y\"}},\"id\":\"c46fbf45-4710-4c82-a27f-a3020c7372c2\",\"type\":\"Circle\"},{\"attributes\":{\"plot\":null,\"text\":\"word2vec vis top 2000\"},\"id\":\"4eaca60a-1c3e-48c7-aba4-e618442efc39\",\"type\":\"Title\"}],\"root_ids\":[\"753db811-2c51-4adf-a091-bf435a49cb7d\"]},\"title\":\"Bokeh Application\",\"version\":\"0.12.5\"}};\n",
       "            var render_items = [{\"docid\":\"a6d5a439-1eb2-40a0-b9ce-8f5565c71d63\",\"elementid\":\"578530b3-1513-4003-a6dc-0e52ea7e171d\",\"modelid\":\"753db811-2c51-4adf-a091-bf435a49cb7d\"}];\n",
       "            \n",
       "            Bokeh.embed.embed_items(docs_json, render_items);\n",
       "          };\n",
       "          if (document.readyState != \"loading\") fn();\n",
       "          else document.addEventListener(\"DOMContentLoaded\", fn);\n",
       "        })();\n",
       "      },\n",
       "      function(Bokeh) {\n",
       "      }\n",
       "    ];\n",
       "  \n",
       "    function run_inline_js() {\n",
       "      \n",
       "      if ((window.Bokeh !== undefined) || (force === true)) {\n",
       "        for (var i = 0; i < inline_js.length; i++) {\n",
       "          inline_js[i](window.Bokeh);\n",
       "        }if (force === true) {\n",
       "          display_loaded();\n",
       "        }} else if (Date.now() < window._bokeh_timeout) {\n",
       "        setTimeout(run_inline_js, 100);\n",
       "      } else if (!window._bokeh_failed_load) {\n",
       "        console.log(\"Bokeh: BokehJS failed to load within specified timeout.\");\n",
       "        window._bokeh_failed_load = true;\n",
       "      } else if (force !== true) {\n",
       "        var cell = $(document.getElementById(\"578530b3-1513-4003-a6dc-0e52ea7e171d\")).parents('.cell').data().cell;\n",
       "        cell.output_area.append_execute_result(NB_LOAD_WARNING)\n",
       "      }\n",
       "  \n",
       "    }\n",
       "  \n",
       "    if (window._bokeh_is_loading === 0) {\n",
       "      console.log(\"Bokeh: BokehJS loaded, going straight to plotting\");\n",
       "      run_inline_js();\n",
       "    } else {\n",
       "      load_libs(js_urls, function() {\n",
       "        console.log(\"Bokeh: BokehJS plotting callback run at\", now());\n",
       "        run_inline_js();\n",
       "      });\n",
       "    }\n",
       "  }(this));\n",
       "</script>"
      ]
     },
     "metadata": {},
     "output_type": "display_data"
    }
   ],
   "source": [
    "vis_top_n(model=model, top=2000, lr=2000, n_iter=1000, perplexity=30)"
   ]
  },
  {
   "cell_type": "code",
   "execution_count": null,
   "metadata": {
    "collapsed": true
   },
   "outputs": [],
   "source": []
  }
 ],
 "metadata": {
  "kernelspec": {
   "display_name": "Python 3",
   "language": "python",
   "name": "python3"
  },
  "language_info": {
   "codemirror_mode": {
    "name": "ipython",
    "version": 3
   },
   "file_extension": ".py",
   "mimetype": "text/x-python",
   "name": "python",
   "nbconvert_exporter": "python",
   "pygments_lexer": "ipython3",
   "version": "3.6.0"
  }
 },
 "nbformat": 4,
 "nbformat_minor": 2
}
